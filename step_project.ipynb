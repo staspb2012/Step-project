{
 "cells": [
  {
   "cell_type": "code",
   "execution_count": 29,
   "id": "c3b8bd80",
   "metadata": {},
   "outputs": [],
   "source": [
    "#Импортируем библиотеки\n",
    "import pandas as pd\n",
    "import numpy as np \n",
    "import seaborn  as sns\n",
    "import matplotlib.pyplot as plt\n",
    "import scipy \n",
    "from scipy.stats import stats\n",
    "\n",
    "%matplotlib inline \n",
    "sns.set('notebook')\n",
    "\n",
    "from sklearn.preprocessing import LabelEncoder"
   ]
  },
  {
   "cell_type": "code",
   "execution_count": 30,
   "id": "21e69c97",
   "metadata": {},
   "outputs": [],
   "source": [
    "#Загружаем файл\n",
    "ikea = pd.read_csv('https://raw.githubusercontent.com/rfordatascience/tidytuesday/master/data/2020/2020-11-03/ikea.csv')"
   ]
  },
  {
   "cell_type": "markdown",
   "id": "c3ec717c",
   "metadata": {},
   "source": [
    "<h3>Изучение набора данных IKEA</h3>"
   ]
  },
  {
   "cell_type": "markdown",
   "id": "28bc015e",
   "metadata": {},
   "source": [
    "<h2>IKEA</h2>\n",
    "\n",
    ">Dataframe содержит 3694 строки и 14 колонок, имеет пустые значения, не имеет дубликатов.\n",
    "<h4>Колонки</h4>\n",
    " <li><b>item_id</b> - идентификатор элемента</li>\n",
    "<li><b>name</b> - название дизайнера</li>\n",
    "<li><b>category</b> - категория мебели</li>\n",
    "<li><b>price</b> - стоимость товара </li>\n",
    "<li><b>old_price</b> - цена товара до скидки</li>\n",
    "<li><b>sellable_online</b> - доступен ли товар для покупки в интернете</li>\n",
    "<li><b>link\t</b> - ссылка на товар</li>\n",
    "<li><b>other_colors</b> - наличие других цветов или только один цвет</li>\n",
    "<li><b>short_description</b> - краткое описание предмета</li>\n",
    "<li><b>designer</b> - имя дизайнера,спроектировавшего товар </li>\n",
    "<li><b>depth</b> - глубина в сантиметрах</li>\n",
    "<li><b>height</b> - высота  в сантиметрах</li>\n",
    "<li><b>width</b> - ширина  в сантиметрах</li>\n",
    "\n"
   ]
  },
  {
   "cell_type": "code",
   "execution_count": 31,
   "id": "bdbe77bc",
   "metadata": {},
   "outputs": [
    {
     "data": {
      "text/html": [
       "<div>\n",
       "<style scoped>\n",
       "    .dataframe tbody tr th:only-of-type {\n",
       "        vertical-align: middle;\n",
       "    }\n",
       "\n",
       "    .dataframe tbody tr th {\n",
       "        vertical-align: top;\n",
       "    }\n",
       "\n",
       "    .dataframe thead th {\n",
       "        text-align: right;\n",
       "    }\n",
       "</style>\n",
       "<table border=\"1\" class=\"dataframe\">\n",
       "  <thead>\n",
       "    <tr style=\"text-align: right;\">\n",
       "      <th></th>\n",
       "      <th>Unnamed: 0</th>\n",
       "      <th>item_id</th>\n",
       "      <th>name</th>\n",
       "      <th>category</th>\n",
       "      <th>price</th>\n",
       "      <th>old_price</th>\n",
       "      <th>sellable_online</th>\n",
       "      <th>link</th>\n",
       "      <th>other_colors</th>\n",
       "      <th>short_description</th>\n",
       "      <th>designer</th>\n",
       "      <th>depth</th>\n",
       "      <th>height</th>\n",
       "      <th>width</th>\n",
       "    </tr>\n",
       "  </thead>\n",
       "  <tbody>\n",
       "    <tr>\n",
       "      <th>0</th>\n",
       "      <td>0</td>\n",
       "      <td>90420332</td>\n",
       "      <td>FREKVENS</td>\n",
       "      <td>Bar furniture</td>\n",
       "      <td>265.0</td>\n",
       "      <td>No old price</td>\n",
       "      <td>True</td>\n",
       "      <td>https://www.ikea.com/sa/en/p/frekvens-bar-tabl...</td>\n",
       "      <td>No</td>\n",
       "      <td>Bar table, in/outdoor,          51x51 cm</td>\n",
       "      <td>Nicholai Wiig Hansen</td>\n",
       "      <td>NaN</td>\n",
       "      <td>99.0</td>\n",
       "      <td>51.0</td>\n",
       "    </tr>\n",
       "    <tr>\n",
       "      <th>1</th>\n",
       "      <td>1</td>\n",
       "      <td>368814</td>\n",
       "      <td>NORDVIKEN</td>\n",
       "      <td>Bar furniture</td>\n",
       "      <td>995.0</td>\n",
       "      <td>No old price</td>\n",
       "      <td>False</td>\n",
       "      <td>https://www.ikea.com/sa/en/p/nordviken-bar-tab...</td>\n",
       "      <td>No</td>\n",
       "      <td>Bar table,          140x80 cm</td>\n",
       "      <td>Francis Cayouette</td>\n",
       "      <td>NaN</td>\n",
       "      <td>105.0</td>\n",
       "      <td>80.0</td>\n",
       "    </tr>\n",
       "    <tr>\n",
       "      <th>2</th>\n",
       "      <td>2</td>\n",
       "      <td>9333523</td>\n",
       "      <td>NORDVIKEN / NORDVIKEN</td>\n",
       "      <td>Bar furniture</td>\n",
       "      <td>2095.0</td>\n",
       "      <td>No old price</td>\n",
       "      <td>False</td>\n",
       "      <td>https://www.ikea.com/sa/en/p/nordviken-nordvik...</td>\n",
       "      <td>No</td>\n",
       "      <td>Bar table and 4 bar stools</td>\n",
       "      <td>Francis Cayouette</td>\n",
       "      <td>NaN</td>\n",
       "      <td>NaN</td>\n",
       "      <td>NaN</td>\n",
       "    </tr>\n",
       "    <tr>\n",
       "      <th>3</th>\n",
       "      <td>3</td>\n",
       "      <td>80155205</td>\n",
       "      <td>STIG</td>\n",
       "      <td>Bar furniture</td>\n",
       "      <td>69.0</td>\n",
       "      <td>No old price</td>\n",
       "      <td>True</td>\n",
       "      <td>https://www.ikea.com/sa/en/p/stig-bar-stool-wi...</td>\n",
       "      <td>Yes</td>\n",
       "      <td>Bar stool with backrest,          74 cm</td>\n",
       "      <td>Henrik Preutz</td>\n",
       "      <td>50.0</td>\n",
       "      <td>100.0</td>\n",
       "      <td>60.0</td>\n",
       "    </tr>\n",
       "    <tr>\n",
       "      <th>4</th>\n",
       "      <td>4</td>\n",
       "      <td>30180504</td>\n",
       "      <td>NORBERG</td>\n",
       "      <td>Bar furniture</td>\n",
       "      <td>225.0</td>\n",
       "      <td>No old price</td>\n",
       "      <td>True</td>\n",
       "      <td>https://www.ikea.com/sa/en/p/norberg-wall-moun...</td>\n",
       "      <td>No</td>\n",
       "      <td>Wall-mounted drop-leaf table,         ...</td>\n",
       "      <td>Marcus Arvonen</td>\n",
       "      <td>60.0</td>\n",
       "      <td>43.0</td>\n",
       "      <td>74.0</td>\n",
       "    </tr>\n",
       "    <tr>\n",
       "      <th>5</th>\n",
       "      <td>5</td>\n",
       "      <td>10122647</td>\n",
       "      <td>INGOLF</td>\n",
       "      <td>Bar furniture</td>\n",
       "      <td>345.0</td>\n",
       "      <td>No old price</td>\n",
       "      <td>True</td>\n",
       "      <td>https://www.ikea.com/sa/en/p/ingolf-bar-stool-...</td>\n",
       "      <td>No</td>\n",
       "      <td>Bar stool with backrest,          63 cm</td>\n",
       "      <td>Carina Bengs</td>\n",
       "      <td>45.0</td>\n",
       "      <td>91.0</td>\n",
       "      <td>40.0</td>\n",
       "    </tr>\n",
       "    <tr>\n",
       "      <th>6</th>\n",
       "      <td>6</td>\n",
       "      <td>70404875</td>\n",
       "      <td>FRANKLIN</td>\n",
       "      <td>Bar furniture</td>\n",
       "      <td>129.0</td>\n",
       "      <td>No old price</td>\n",
       "      <td>True</td>\n",
       "      <td>https://www.ikea.com/sa/en/p/franklin-bar-stoo...</td>\n",
       "      <td>No</td>\n",
       "      <td>Bar stool with backrest, foldable,    ...</td>\n",
       "      <td>K Hagberg/M Hagberg</td>\n",
       "      <td>44.0</td>\n",
       "      <td>95.0</td>\n",
       "      <td>50.0</td>\n",
       "    </tr>\n",
       "    <tr>\n",
       "      <th>7</th>\n",
       "      <td>7</td>\n",
       "      <td>60155602</td>\n",
       "      <td>DALFRED</td>\n",
       "      <td>Bar furniture</td>\n",
       "      <td>195.0</td>\n",
       "      <td>No old price</td>\n",
       "      <td>True</td>\n",
       "      <td>https://www.ikea.com/sa/en/p/dalfred-bar-stool...</td>\n",
       "      <td>No</td>\n",
       "      <td>Bar stool,          63-74 cm</td>\n",
       "      <td>Sarah Fager</td>\n",
       "      <td>50.0</td>\n",
       "      <td>NaN</td>\n",
       "      <td>50.0</td>\n",
       "    </tr>\n",
       "    <tr>\n",
       "      <th>8</th>\n",
       "      <td>8</td>\n",
       "      <td>50406465</td>\n",
       "      <td>FRANKLIN</td>\n",
       "      <td>Bar furniture</td>\n",
       "      <td>129.0</td>\n",
       "      <td>No old price</td>\n",
       "      <td>True</td>\n",
       "      <td>https://www.ikea.com/sa/en/p/franklin-bar-stoo...</td>\n",
       "      <td>No</td>\n",
       "      <td>Bar stool with backrest, foldable,    ...</td>\n",
       "      <td>K Hagberg/M Hagberg</td>\n",
       "      <td>44.0</td>\n",
       "      <td>95.0</td>\n",
       "      <td>50.0</td>\n",
       "    </tr>\n",
       "    <tr>\n",
       "      <th>9</th>\n",
       "      <td>9</td>\n",
       "      <td>69304221</td>\n",
       "      <td>EKEDALEN / EKEDALEN</td>\n",
       "      <td>Bar furniture</td>\n",
       "      <td>2176.0</td>\n",
       "      <td>SR 2,375</td>\n",
       "      <td>True</td>\n",
       "      <td>https://www.ikea.com/sa/en/p/ekedalen-ekedalen...</td>\n",
       "      <td>No</td>\n",
       "      <td>Bar table and 4 bar stools</td>\n",
       "      <td>Ehlén Johansson</td>\n",
       "      <td>NaN</td>\n",
       "      <td>NaN</td>\n",
       "      <td>NaN</td>\n",
       "    </tr>\n",
       "  </tbody>\n",
       "</table>\n",
       "</div>"
      ],
      "text/plain": [
       "   Unnamed: 0   item_id                   name       category   price  \\\n",
       "0           0  90420332               FREKVENS  Bar furniture   265.0   \n",
       "1           1    368814              NORDVIKEN  Bar furniture   995.0   \n",
       "2           2   9333523  NORDVIKEN / NORDVIKEN  Bar furniture  2095.0   \n",
       "3           3  80155205                   STIG  Bar furniture    69.0   \n",
       "4           4  30180504                NORBERG  Bar furniture   225.0   \n",
       "5           5  10122647                 INGOLF  Bar furniture   345.0   \n",
       "6           6  70404875               FRANKLIN  Bar furniture   129.0   \n",
       "7           7  60155602                DALFRED  Bar furniture   195.0   \n",
       "8           8  50406465               FRANKLIN  Bar furniture   129.0   \n",
       "9           9  69304221    EKEDALEN / EKEDALEN  Bar furniture  2176.0   \n",
       "\n",
       "      old_price  sellable_online  \\\n",
       "0  No old price             True   \n",
       "1  No old price            False   \n",
       "2  No old price            False   \n",
       "3  No old price             True   \n",
       "4  No old price             True   \n",
       "5  No old price             True   \n",
       "6  No old price             True   \n",
       "7  No old price             True   \n",
       "8  No old price             True   \n",
       "9      SR 2,375             True   \n",
       "\n",
       "                                                link other_colors  \\\n",
       "0  https://www.ikea.com/sa/en/p/frekvens-bar-tabl...           No   \n",
       "1  https://www.ikea.com/sa/en/p/nordviken-bar-tab...           No   \n",
       "2  https://www.ikea.com/sa/en/p/nordviken-nordvik...           No   \n",
       "3  https://www.ikea.com/sa/en/p/stig-bar-stool-wi...          Yes   \n",
       "4  https://www.ikea.com/sa/en/p/norberg-wall-moun...           No   \n",
       "5  https://www.ikea.com/sa/en/p/ingolf-bar-stool-...           No   \n",
       "6  https://www.ikea.com/sa/en/p/franklin-bar-stoo...           No   \n",
       "7  https://www.ikea.com/sa/en/p/dalfred-bar-stool...           No   \n",
       "8  https://www.ikea.com/sa/en/p/franklin-bar-stoo...           No   \n",
       "9  https://www.ikea.com/sa/en/p/ekedalen-ekedalen...           No   \n",
       "\n",
       "                                   short_description              designer  \\\n",
       "0           Bar table, in/outdoor,          51x51 cm  Nicholai Wiig Hansen   \n",
       "1                      Bar table,          140x80 cm     Francis Cayouette   \n",
       "2                         Bar table and 4 bar stools     Francis Cayouette   \n",
       "3            Bar stool with backrest,          74 cm         Henrik Preutz   \n",
       "4          Wall-mounted drop-leaf table,         ...        Marcus Arvonen   \n",
       "5            Bar stool with backrest,          63 cm          Carina Bengs   \n",
       "6          Bar stool with backrest, foldable,    ...   K Hagberg/M Hagberg   \n",
       "7                       Bar stool,          63-74 cm           Sarah Fager   \n",
       "8          Bar stool with backrest, foldable,    ...   K Hagberg/M Hagberg   \n",
       "9                         Bar table and 4 bar stools       Ehlén Johansson   \n",
       "\n",
       "   depth  height  width  \n",
       "0    NaN    99.0   51.0  \n",
       "1    NaN   105.0   80.0  \n",
       "2    NaN     NaN    NaN  \n",
       "3   50.0   100.0   60.0  \n",
       "4   60.0    43.0   74.0  \n",
       "5   45.0    91.0   40.0  \n",
       "6   44.0    95.0   50.0  \n",
       "7   50.0     NaN   50.0  \n",
       "8   44.0    95.0   50.0  \n",
       "9    NaN     NaN    NaN  "
      ]
     },
     "execution_count": 31,
     "metadata": {},
     "output_type": "execute_result"
    }
   ],
   "source": [
    "#Выводим верхние значения для ознакомления с датафреймом\n",
    "ikea.head(10)"
   ]
  },
  {
   "cell_type": "code",
   "execution_count": 32,
   "id": "14ce3a00",
   "metadata": {},
   "outputs": [
    {
     "data": {
      "text/html": [
       "<div>\n",
       "<style scoped>\n",
       "    .dataframe tbody tr th:only-of-type {\n",
       "        vertical-align: middle;\n",
       "    }\n",
       "\n",
       "    .dataframe tbody tr th {\n",
       "        vertical-align: top;\n",
       "    }\n",
       "\n",
       "    .dataframe thead th {\n",
       "        text-align: right;\n",
       "    }\n",
       "</style>\n",
       "<table border=\"1\" class=\"dataframe\">\n",
       "  <thead>\n",
       "    <tr style=\"text-align: right;\">\n",
       "      <th></th>\n",
       "      <th>Unnamed: 0</th>\n",
       "      <th>item_id</th>\n",
       "      <th>name</th>\n",
       "      <th>category</th>\n",
       "      <th>price</th>\n",
       "      <th>old_price</th>\n",
       "      <th>sellable_online</th>\n",
       "      <th>link</th>\n",
       "      <th>other_colors</th>\n",
       "      <th>short_description</th>\n",
       "      <th>designer</th>\n",
       "      <th>depth</th>\n",
       "      <th>height</th>\n",
       "      <th>width</th>\n",
       "    </tr>\n",
       "  </thead>\n",
       "  <tbody>\n",
       "    <tr>\n",
       "      <th>3684</th>\n",
       "      <td>3684</td>\n",
       "      <td>49157565</td>\n",
       "      <td>ELVARLI</td>\n",
       "      <td>Wardrobes</td>\n",
       "      <td>1245.0</td>\n",
       "      <td>SR 1,735</td>\n",
       "      <td>True</td>\n",
       "      <td>https://www.ikea.com/sa/en/p/elvarli-2-section...</td>\n",
       "      <td>No</td>\n",
       "      <td>2 sections,          165x55x216 cm</td>\n",
       "      <td>Ehlén Johansson/IKEA of Sweden</td>\n",
       "      <td>55.0</td>\n",
       "      <td>216.0</td>\n",
       "      <td>164.0</td>\n",
       "    </tr>\n",
       "    <tr>\n",
       "      <th>3685</th>\n",
       "      <td>3685</td>\n",
       "      <td>59324936</td>\n",
       "      <td>PAX / FORSAND</td>\n",
       "      <td>Wardrobes</td>\n",
       "      <td>2100.0</td>\n",
       "      <td>No old price</td>\n",
       "      <td>True</td>\n",
       "      <td>https://www.ikea.com/sa/en/p/pax-forsand-wardr...</td>\n",
       "      <td>Yes</td>\n",
       "      <td>Wardrobe combination,          100x60x...</td>\n",
       "      <td>IKEA of Sweden/Ehlén Johansson</td>\n",
       "      <td>60.0</td>\n",
       "      <td>236.0</td>\n",
       "      <td>100.0</td>\n",
       "    </tr>\n",
       "    <tr>\n",
       "      <th>3686</th>\n",
       "      <td>3686</td>\n",
       "      <td>69330475</td>\n",
       "      <td>PAX / HOKKSUND</td>\n",
       "      <td>Wardrobes</td>\n",
       "      <td>3985.0</td>\n",
       "      <td>No old price</td>\n",
       "      <td>True</td>\n",
       "      <td>https://www.ikea.com/sa/en/p/pax-hokksund-ward...</td>\n",
       "      <td>No</td>\n",
       "      <td>Wardrobe combination,          150x66x...</td>\n",
       "      <td>IKEA of Sweden/Ehlén Johansson</td>\n",
       "      <td>66.0</td>\n",
       "      <td>236.0</td>\n",
       "      <td>150.0</td>\n",
       "    </tr>\n",
       "    <tr>\n",
       "      <th>3687</th>\n",
       "      <td>3687</td>\n",
       "      <td>79302995</td>\n",
       "      <td>ELVARLI</td>\n",
       "      <td>Wardrobes</td>\n",
       "      <td>1611.0</td>\n",
       "      <td>SR 1,815</td>\n",
       "      <td>True</td>\n",
       "      <td>https://www.ikea.com/sa/en/p/elvarli-2-section...</td>\n",
       "      <td>No</td>\n",
       "      <td>2 sections,          175x51x222-350 cm</td>\n",
       "      <td>Ehlén Johansson</td>\n",
       "      <td>50.0</td>\n",
       "      <td>NaN</td>\n",
       "      <td>175.0</td>\n",
       "    </tr>\n",
       "    <tr>\n",
       "      <th>3688</th>\n",
       "      <td>3688</td>\n",
       "      <td>89330653</td>\n",
       "      <td>PAX / MEHAMN/AULI</td>\n",
       "      <td>Wardrobes</td>\n",
       "      <td>2045.0</td>\n",
       "      <td>No old price</td>\n",
       "      <td>True</td>\n",
       "      <td>https://www.ikea.com/sa/en/p/pax-mehamn-auli-w...</td>\n",
       "      <td>No</td>\n",
       "      <td>Wardrobe combination,          200x66x...</td>\n",
       "      <td>IKEA of Sweden/Ehlén Johansson</td>\n",
       "      <td>66.0</td>\n",
       "      <td>236.0</td>\n",
       "      <td>200.0</td>\n",
       "    </tr>\n",
       "    <tr>\n",
       "      <th>3689</th>\n",
       "      <td>3689</td>\n",
       "      <td>99157902</td>\n",
       "      <td>ELVARLI</td>\n",
       "      <td>Wardrobes</td>\n",
       "      <td>750.0</td>\n",
       "      <td>SR 820</td>\n",
       "      <td>True</td>\n",
       "      <td>https://www.ikea.com/sa/en/p/elvarli-1-section...</td>\n",
       "      <td>No</td>\n",
       "      <td>1 section,          92x51x222-350 cm</td>\n",
       "      <td>Ehlén Johansson</td>\n",
       "      <td>50.0</td>\n",
       "      <td>NaN</td>\n",
       "      <td>91.0</td>\n",
       "    </tr>\n",
       "    <tr>\n",
       "      <th>3690</th>\n",
       "      <td>3690</td>\n",
       "      <td>9158152</td>\n",
       "      <td>ELVARLI</td>\n",
       "      <td>Wardrobes</td>\n",
       "      <td>1572.0</td>\n",
       "      <td>SR 1,755</td>\n",
       "      <td>True</td>\n",
       "      <td>https://www.ikea.com/sa/en/p/elvarli-2-section...</td>\n",
       "      <td>No</td>\n",
       "      <td>2 sections,          135x51x222-350 cm</td>\n",
       "      <td>Ehlén Johansson</td>\n",
       "      <td>50.0</td>\n",
       "      <td>NaN</td>\n",
       "      <td>135.0</td>\n",
       "    </tr>\n",
       "    <tr>\n",
       "      <th>3691</th>\n",
       "      <td>3691</td>\n",
       "      <td>59157541</td>\n",
       "      <td>ELVARLI</td>\n",
       "      <td>Wardrobes</td>\n",
       "      <td>924.0</td>\n",
       "      <td>SR 1,050</td>\n",
       "      <td>True</td>\n",
       "      <td>https://www.ikea.com/sa/en/p/elvarli-2-section...</td>\n",
       "      <td>No</td>\n",
       "      <td>2 sections,          175x51x222-350 cm</td>\n",
       "      <td>Ehlén Johansson</td>\n",
       "      <td>50.0</td>\n",
       "      <td>NaN</td>\n",
       "      <td>175.0</td>\n",
       "    </tr>\n",
       "    <tr>\n",
       "      <th>3692</th>\n",
       "      <td>3692</td>\n",
       "      <td>89157573</td>\n",
       "      <td>ELVARLI</td>\n",
       "      <td>Wardrobes</td>\n",
       "      <td>2745.0</td>\n",
       "      <td>SR 3,130</td>\n",
       "      <td>True</td>\n",
       "      <td>https://www.ikea.com/sa/en/p/elvarli-3-section...</td>\n",
       "      <td>No</td>\n",
       "      <td>3 sections,          178x51x222-350 cm</td>\n",
       "      <td>Ehlén Johansson</td>\n",
       "      <td>50.0</td>\n",
       "      <td>NaN</td>\n",
       "      <td>178.0</td>\n",
       "    </tr>\n",
       "    <tr>\n",
       "      <th>3693</th>\n",
       "      <td>3693</td>\n",
       "      <td>69157376</td>\n",
       "      <td>ELVARLI</td>\n",
       "      <td>Wardrobes</td>\n",
       "      <td>1231.0</td>\n",
       "      <td>SR 1,535</td>\n",
       "      <td>True</td>\n",
       "      <td>https://www.ikea.com/sa/en/p/elvarli-2-section...</td>\n",
       "      <td>No</td>\n",
       "      <td>2 sections,          175x51x222-350 cm</td>\n",
       "      <td>Ehlén Johansson</td>\n",
       "      <td>50.0</td>\n",
       "      <td>NaN</td>\n",
       "      <td>175.0</td>\n",
       "    </tr>\n",
       "  </tbody>\n",
       "</table>\n",
       "</div>"
      ],
      "text/plain": [
       "      Unnamed: 0   item_id               name   category   price  \\\n",
       "3684        3684  49157565            ELVARLI  Wardrobes  1245.0   \n",
       "3685        3685  59324936      PAX / FORSAND  Wardrobes  2100.0   \n",
       "3686        3686  69330475     PAX / HOKKSUND  Wardrobes  3985.0   \n",
       "3687        3687  79302995            ELVARLI  Wardrobes  1611.0   \n",
       "3688        3688  89330653  PAX / MEHAMN/AULI  Wardrobes  2045.0   \n",
       "3689        3689  99157902            ELVARLI  Wardrobes   750.0   \n",
       "3690        3690   9158152            ELVARLI  Wardrobes  1572.0   \n",
       "3691        3691  59157541            ELVARLI  Wardrobes   924.0   \n",
       "3692        3692  89157573            ELVARLI  Wardrobes  2745.0   \n",
       "3693        3693  69157376            ELVARLI  Wardrobes  1231.0   \n",
       "\n",
       "         old_price  sellable_online  \\\n",
       "3684      SR 1,735             True   \n",
       "3685  No old price             True   \n",
       "3686  No old price             True   \n",
       "3687      SR 1,815             True   \n",
       "3688  No old price             True   \n",
       "3689        SR 820             True   \n",
       "3690      SR 1,755             True   \n",
       "3691      SR 1,050             True   \n",
       "3692      SR 3,130             True   \n",
       "3693      SR 1,535             True   \n",
       "\n",
       "                                                   link other_colors  \\\n",
       "3684  https://www.ikea.com/sa/en/p/elvarli-2-section...           No   \n",
       "3685  https://www.ikea.com/sa/en/p/pax-forsand-wardr...          Yes   \n",
       "3686  https://www.ikea.com/sa/en/p/pax-hokksund-ward...           No   \n",
       "3687  https://www.ikea.com/sa/en/p/elvarli-2-section...           No   \n",
       "3688  https://www.ikea.com/sa/en/p/pax-mehamn-auli-w...           No   \n",
       "3689  https://www.ikea.com/sa/en/p/elvarli-1-section...           No   \n",
       "3690  https://www.ikea.com/sa/en/p/elvarli-2-section...           No   \n",
       "3691  https://www.ikea.com/sa/en/p/elvarli-2-section...           No   \n",
       "3692  https://www.ikea.com/sa/en/p/elvarli-3-section...           No   \n",
       "3693  https://www.ikea.com/sa/en/p/elvarli-2-section...           No   \n",
       "\n",
       "                                      short_description  \\\n",
       "3684                 2 sections,          165x55x216 cm   \n",
       "3685          Wardrobe combination,          100x60x...   \n",
       "3686          Wardrobe combination,          150x66x...   \n",
       "3687             2 sections,          175x51x222-350 cm   \n",
       "3688          Wardrobe combination,          200x66x...   \n",
       "3689               1 section,          92x51x222-350 cm   \n",
       "3690             2 sections,          135x51x222-350 cm   \n",
       "3691             2 sections,          175x51x222-350 cm   \n",
       "3692             3 sections,          178x51x222-350 cm   \n",
       "3693             2 sections,          175x51x222-350 cm   \n",
       "\n",
       "                            designer  depth  height  width  \n",
       "3684  Ehlén Johansson/IKEA of Sweden   55.0   216.0  164.0  \n",
       "3685  IKEA of Sweden/Ehlén Johansson   60.0   236.0  100.0  \n",
       "3686  IKEA of Sweden/Ehlén Johansson   66.0   236.0  150.0  \n",
       "3687                 Ehlén Johansson   50.0     NaN  175.0  \n",
       "3688  IKEA of Sweden/Ehlén Johansson   66.0   236.0  200.0  \n",
       "3689                 Ehlén Johansson   50.0     NaN   91.0  \n",
       "3690                 Ehlén Johansson   50.0     NaN  135.0  \n",
       "3691                 Ehlén Johansson   50.0     NaN  175.0  \n",
       "3692                 Ehlén Johansson   50.0     NaN  178.0  \n",
       "3693                 Ehlén Johansson   50.0     NaN  175.0  "
      ]
     },
     "execution_count": 32,
     "metadata": {},
     "output_type": "execute_result"
    }
   ],
   "source": [
    "#Выводим нижние значения для ознакомления с датафреймом\n",
    "ikea.tail(10)"
   ]
  },
  {
   "cell_type": "code",
   "execution_count": 33,
   "id": "8823b209",
   "metadata": {},
   "outputs": [
    {
     "data": {
      "text/html": [
       "<div>\n",
       "<style scoped>\n",
       "    .dataframe tbody tr th:only-of-type {\n",
       "        vertical-align: middle;\n",
       "    }\n",
       "\n",
       "    .dataframe tbody tr th {\n",
       "        vertical-align: top;\n",
       "    }\n",
       "\n",
       "    .dataframe thead th {\n",
       "        text-align: right;\n",
       "    }\n",
       "</style>\n",
       "<table border=\"1\" class=\"dataframe\">\n",
       "  <thead>\n",
       "    <tr style=\"text-align: right;\">\n",
       "      <th></th>\n",
       "      <th>Unnamed: 0</th>\n",
       "      <th>item_id</th>\n",
       "      <th>price</th>\n",
       "      <th>depth</th>\n",
       "      <th>height</th>\n",
       "      <th>width</th>\n",
       "    </tr>\n",
       "  </thead>\n",
       "  <tbody>\n",
       "    <tr>\n",
       "      <th>count</th>\n",
       "      <td>3694.000000</td>\n",
       "      <td>3.694000e+03</td>\n",
       "      <td>3694.000000</td>\n",
       "      <td>2231.000000</td>\n",
       "      <td>2706.000000</td>\n",
       "      <td>3105.000000</td>\n",
       "    </tr>\n",
       "    <tr>\n",
       "      <th>mean</th>\n",
       "      <td>1846.500000</td>\n",
       "      <td>4.863240e+07</td>\n",
       "      <td>1078.208419</td>\n",
       "      <td>54.379202</td>\n",
       "      <td>101.679970</td>\n",
       "      <td>104.470853</td>\n",
       "    </tr>\n",
       "    <tr>\n",
       "      <th>std</th>\n",
       "      <td>1066.510275</td>\n",
       "      <td>2.888709e+07</td>\n",
       "      <td>1374.652494</td>\n",
       "      <td>29.958351</td>\n",
       "      <td>61.097585</td>\n",
       "      <td>71.133771</td>\n",
       "    </tr>\n",
       "    <tr>\n",
       "      <th>min</th>\n",
       "      <td>0.000000</td>\n",
       "      <td>5.848700e+04</td>\n",
       "      <td>3.000000</td>\n",
       "      <td>1.000000</td>\n",
       "      <td>1.000000</td>\n",
       "      <td>1.000000</td>\n",
       "    </tr>\n",
       "    <tr>\n",
       "      <th>25%</th>\n",
       "      <td>923.250000</td>\n",
       "      <td>2.039057e+07</td>\n",
       "      <td>180.900000</td>\n",
       "      <td>38.000000</td>\n",
       "      <td>67.000000</td>\n",
       "      <td>60.000000</td>\n",
       "    </tr>\n",
       "    <tr>\n",
       "      <th>50%</th>\n",
       "      <td>1846.500000</td>\n",
       "      <td>4.928808e+07</td>\n",
       "      <td>544.700000</td>\n",
       "      <td>47.000000</td>\n",
       "      <td>83.000000</td>\n",
       "      <td>80.000000</td>\n",
       "    </tr>\n",
       "    <tr>\n",
       "      <th>75%</th>\n",
       "      <td>2769.750000</td>\n",
       "      <td>7.040357e+07</td>\n",
       "      <td>1429.500000</td>\n",
       "      <td>60.000000</td>\n",
       "      <td>124.000000</td>\n",
       "      <td>140.000000</td>\n",
       "    </tr>\n",
       "    <tr>\n",
       "      <th>max</th>\n",
       "      <td>3693.000000</td>\n",
       "      <td>9.993262e+07</td>\n",
       "      <td>9585.000000</td>\n",
       "      <td>257.000000</td>\n",
       "      <td>700.000000</td>\n",
       "      <td>420.000000</td>\n",
       "    </tr>\n",
       "  </tbody>\n",
       "</table>\n",
       "</div>"
      ],
      "text/plain": [
       "        Unnamed: 0       item_id        price        depth       height  \\\n",
       "count  3694.000000  3.694000e+03  3694.000000  2231.000000  2706.000000   \n",
       "mean   1846.500000  4.863240e+07  1078.208419    54.379202   101.679970   \n",
       "std    1066.510275  2.888709e+07  1374.652494    29.958351    61.097585   \n",
       "min       0.000000  5.848700e+04     3.000000     1.000000     1.000000   \n",
       "25%     923.250000  2.039057e+07   180.900000    38.000000    67.000000   \n",
       "50%    1846.500000  4.928808e+07   544.700000    47.000000    83.000000   \n",
       "75%    2769.750000  7.040357e+07  1429.500000    60.000000   124.000000   \n",
       "max    3693.000000  9.993262e+07  9585.000000   257.000000   700.000000   \n",
       "\n",
       "             width  \n",
       "count  3105.000000  \n",
       "mean    104.470853  \n",
       "std      71.133771  \n",
       "min       1.000000  \n",
       "25%      60.000000  \n",
       "50%      80.000000  \n",
       "75%     140.000000  \n",
       "max     420.000000  "
      ]
     },
     "execution_count": 33,
     "metadata": {},
     "output_type": "execute_result"
    }
   ],
   "source": [
    "#Выводим описательную статистику по датафрейму\n",
    "ikea.describe()"
   ]
  },
  {
   "cell_type": "code",
   "execution_count": 34,
   "id": "062ee6e9",
   "metadata": {},
   "outputs": [
    {
     "name": "stdout",
     "output_type": "stream",
     "text": [
      "<class 'pandas.core.frame.DataFrame'>\n",
      "RangeIndex: 3694 entries, 0 to 3693\n",
      "Data columns (total 14 columns):\n",
      " #   Column             Non-Null Count  Dtype  \n",
      "---  ------             --------------  -----  \n",
      " 0   Unnamed: 0         3694 non-null   int64  \n",
      " 1   item_id            3694 non-null   int64  \n",
      " 2   name               3694 non-null   object \n",
      " 3   category           3694 non-null   object \n",
      " 4   price              3694 non-null   float64\n",
      " 5   old_price          3694 non-null   object \n",
      " 6   sellable_online    3694 non-null   bool   \n",
      " 7   link               3694 non-null   object \n",
      " 8   other_colors       3694 non-null   object \n",
      " 9   short_description  3694 non-null   object \n",
      " 10  designer           3694 non-null   object \n",
      " 11  depth              2231 non-null   float64\n",
      " 12  height             2706 non-null   float64\n",
      " 13  width              3105 non-null   float64\n",
      "dtypes: bool(1), float64(4), int64(2), object(7)\n",
      "memory usage: 378.9+ KB\n"
     ]
    }
   ],
   "source": [
    "#Общая информацию по датафрейму\n",
    "ikea.info()"
   ]
  },
  {
   "cell_type": "code",
   "execution_count": 35,
   "id": "793f3649",
   "metadata": {
    "scrolled": true
   },
   "outputs": [
    {
     "data": {
      "text/plain": [
       "Unnamed: 0              0\n",
       "item_id                 0\n",
       "name                    0\n",
       "category                0\n",
       "price                   0\n",
       "old_price               0\n",
       "sellable_online         0\n",
       "link                    0\n",
       "other_colors            0\n",
       "short_description       0\n",
       "designer                0\n",
       "depth                1463\n",
       "height                988\n",
       "width                 589\n",
       "dtype: int64"
      ]
     },
     "execution_count": 35,
     "metadata": {},
     "output_type": "execute_result"
    }
   ],
   "source": [
    "#Проверяем наличие пропущеных значений \n",
    "ikea.isna().sum()"
   ]
  },
  {
   "cell_type": "code",
   "execution_count": 36,
   "id": "499b1e5e",
   "metadata": {},
   "outputs": [
    {
     "data": {
      "text/plain": [
       "0"
      ]
     },
     "execution_count": 36,
     "metadata": {},
     "output_type": "execute_result"
    }
   ],
   "source": [
    "#Проверка на дубликаты\n",
    "ikea.duplicated().sum()"
   ]
  },
  {
   "cell_type": "code",
   "execution_count": 37,
   "id": "5418d06b",
   "metadata": {},
   "outputs": [
    {
     "data": {
      "text/plain": [
       "(3694, 14)"
      ]
     },
     "execution_count": 37,
     "metadata": {},
     "output_type": "execute_result"
    }
   ],
   "source": [
    "#Просмотр количества столбцов и колонок\n",
    "ikea.shape"
   ]
  },
  {
   "cell_type": "code",
   "execution_count": 39,
   "id": "9c614fe4",
   "metadata": {},
   "outputs": [
    {
     "data": {
      "text/plain": [
       "array(['Bar furniture', 'Beds', 'Bookcases & shelving units',\n",
       "       'Cabinets & cupboards', 'Café furniture', 'Chairs',\n",
       "       'Chests of drawers & drawer units', \"Children's furniture\",\n",
       "       'Nursery furniture', 'Outdoor furniture', 'Room dividers',\n",
       "       'Sideboards, buffets & console tables', 'Sofas & armchairs',\n",
       "       'Tables & desks', 'Trolleys', 'TV & media furniture', 'Wardrobes'],\n",
       "      dtype=object)"
      ]
     },
     "execution_count": 39,
     "metadata": {},
     "output_type": "execute_result"
    }
   ],
   "source": [
    "#Просмотр уникальных значений по колонке 'category'\n",
    "ikea['category'].unique()"
   ]
  },
  {
   "cell_type": "code",
   "execution_count": 41,
   "id": "9f5d4162",
   "metadata": {},
   "outputs": [
    {
     "data": {
      "text/plain": [
       "array(['No', 'Yes'], dtype=object)"
      ]
     },
     "execution_count": 41,
     "metadata": {},
     "output_type": "execute_result"
    }
   ],
   "source": [
    "#Просмотр уникальных значений по колонке 'other_colors'\n",
    "ikea['other_colors'].unique()"
   ]
  },
  {
   "cell_type": "code",
   "execution_count": 42,
   "id": "e7a85612",
   "metadata": {},
   "outputs": [
    {
     "data": {
      "text/plain": [
       "array([ True, False])"
      ]
     },
     "execution_count": 42,
     "metadata": {},
     "output_type": "execute_result"
    }
   ],
   "source": [
    "#Просмотр уникальных значений по колонке 'sellable_online'\n",
    "ikea['sellable_online'].unique()"
   ]
  },
  {
   "cell_type": "code",
   "execution_count": 43,
   "id": "209b079f",
   "metadata": {},
   "outputs": [
    {
     "data": {
      "text/html": [
       "<div>\n",
       "<style scoped>\n",
       "    .dataframe tbody tr th:only-of-type {\n",
       "        vertical-align: middle;\n",
       "    }\n",
       "\n",
       "    .dataframe tbody tr th {\n",
       "        vertical-align: top;\n",
       "    }\n",
       "\n",
       "    .dataframe thead th {\n",
       "        text-align: right;\n",
       "    }\n",
       "</style>\n",
       "<table border=\"1\" class=\"dataframe\">\n",
       "  <thead>\n",
       "    <tr style=\"text-align: right;\">\n",
       "      <th></th>\n",
       "      <th>name</th>\n",
       "      <th>item_id</th>\n",
       "    </tr>\n",
       "  </thead>\n",
       "  <tbody>\n",
       "    <tr>\n",
       "      <th>30</th>\n",
       "      <td>BESTÅ</td>\n",
       "      <td>173</td>\n",
       "    </tr>\n",
       "    <tr>\n",
       "      <th>412</th>\n",
       "      <td>PAX</td>\n",
       "      <td>111</td>\n",
       "    </tr>\n",
       "    <tr>\n",
       "      <th>163</th>\n",
       "      <td>GRÖNLID</td>\n",
       "      <td>83</td>\n",
       "    </tr>\n",
       "    <tr>\n",
       "      <th>22</th>\n",
       "      <td>BEKANT</td>\n",
       "      <td>74</td>\n",
       "    </tr>\n",
       "    <tr>\n",
       "      <th>545</th>\n",
       "      <td>TROFAST</td>\n",
       "      <td>74</td>\n",
       "    </tr>\n",
       "    <tr>\n",
       "      <th>...</th>\n",
       "      <td>...</td>\n",
       "      <td>...</td>\n",
       "    </tr>\n",
       "    <tr>\n",
       "      <th>445</th>\n",
       "      <td>RISATORP</td>\n",
       "      <td>1</td>\n",
       "    </tr>\n",
       "    <tr>\n",
       "      <th>191</th>\n",
       "      <td>HORNAVAN</td>\n",
       "      <td>1</td>\n",
       "    </tr>\n",
       "    <tr>\n",
       "      <th>449</th>\n",
       "      <td>RÅDVIKEN</td>\n",
       "      <td>1</td>\n",
       "    </tr>\n",
       "    <tr>\n",
       "      <th>186</th>\n",
       "      <td>HILVER / GODVIN</td>\n",
       "      <td>1</td>\n",
       "    </tr>\n",
       "    <tr>\n",
       "      <th>0</th>\n",
       "      <td>ADDE</td>\n",
       "      <td>1</td>\n",
       "    </tr>\n",
       "  </tbody>\n",
       "</table>\n",
       "<p>607 rows × 2 columns</p>\n",
       "</div>"
      ],
      "text/plain": [
       "                name  item_id\n",
       "30             BESTÅ      173\n",
       "412              PAX      111\n",
       "163          GRÖNLID       83\n",
       "22            BEKANT       74\n",
       "545          TROFAST       74\n",
       "..               ...      ...\n",
       "445         RISATORP        1\n",
       "191         HORNAVAN        1\n",
       "449         RÅDVIKEN        1\n",
       "186  HILVER / GODVIN        1\n",
       "0               ADDE        1\n",
       "\n",
       "[607 rows x 2 columns]"
      ]
     },
     "execution_count": 43,
     "metadata": {},
     "output_type": "execute_result"
    }
   ],
   "source": [
    "#Количество товаров по каждому дизайнеру колонки 'name'\n",
    "ikea.groupby('name').item_id.count().reset_index().sort_values(by='item_id', ascending=False)"
   ]
  },
  {
   "cell_type": "markdown",
   "id": "65075790",
   "metadata": {},
   "source": [
    ">Больше всего товаров дизайнера имени 'BESTÅ'"
   ]
  },
  {
   "cell_type": "code",
   "execution_count": 44,
   "id": "f1e33dc7",
   "metadata": {},
   "outputs": [
    {
     "data": {
      "text/html": [
       "<div>\n",
       "<style scoped>\n",
       "    .dataframe tbody tr th:only-of-type {\n",
       "        vertical-align: middle;\n",
       "    }\n",
       "\n",
       "    .dataframe tbody tr th {\n",
       "        vertical-align: top;\n",
       "    }\n",
       "\n",
       "    .dataframe thead th {\n",
       "        text-align: right;\n",
       "    }\n",
       "</style>\n",
       "<table border=\"1\" class=\"dataframe\">\n",
       "  <thead>\n",
       "    <tr style=\"text-align: right;\">\n",
       "      <th></th>\n",
       "      <th>category</th>\n",
       "      <th>price</th>\n",
       "    </tr>\n",
       "  </thead>\n",
       "  <tbody>\n",
       "    <tr>\n",
       "      <th>12</th>\n",
       "      <td>Sofas &amp; armchairs</td>\n",
       "      <td>9585.0</td>\n",
       "    </tr>\n",
       "    <tr>\n",
       "      <th>1</th>\n",
       "      <td>Beds</td>\n",
       "      <td>9585.0</td>\n",
       "    </tr>\n",
       "    <tr>\n",
       "      <th>16</th>\n",
       "      <td>Wardrobes</td>\n",
       "      <td>8380.0</td>\n",
       "    </tr>\n",
       "    <tr>\n",
       "      <th>14</th>\n",
       "      <td>Tables &amp; desks</td>\n",
       "      <td>6965.0</td>\n",
       "    </tr>\n",
       "    <tr>\n",
       "      <th>5</th>\n",
       "      <td>Chairs</td>\n",
       "      <td>6965.0</td>\n",
       "    </tr>\n",
       "    <tr>\n",
       "      <th>3</th>\n",
       "      <td>Cabinets &amp; cupboards</td>\n",
       "      <td>6480.0</td>\n",
       "    </tr>\n",
       "    <tr>\n",
       "      <th>9</th>\n",
       "      <td>Outdoor furniture</td>\n",
       "      <td>5144.0</td>\n",
       "    </tr>\n",
       "    <tr>\n",
       "      <th>2</th>\n",
       "      <td>Bookcases &amp; shelving units</td>\n",
       "      <td>4335.0</td>\n",
       "    </tr>\n",
       "    <tr>\n",
       "      <th>13</th>\n",
       "      <td>TV &amp; media furniture</td>\n",
       "      <td>4260.0</td>\n",
       "    </tr>\n",
       "    <tr>\n",
       "      <th>10</th>\n",
       "      <td>Room dividers</td>\n",
       "      <td>2397.0</td>\n",
       "    </tr>\n",
       "    <tr>\n",
       "      <th>0</th>\n",
       "      <td>Bar furniture</td>\n",
       "      <td>2375.0</td>\n",
       "    </tr>\n",
       "    <tr>\n",
       "      <th>15</th>\n",
       "      <td>Trolleys</td>\n",
       "      <td>2295.0</td>\n",
       "    </tr>\n",
       "    <tr>\n",
       "      <th>11</th>\n",
       "      <td>Sideboards, buffets &amp; console tables</td>\n",
       "      <td>2100.0</td>\n",
       "    </tr>\n",
       "    <tr>\n",
       "      <th>6</th>\n",
       "      <td>Chests of drawers &amp; drawer units</td>\n",
       "      <td>1880.0</td>\n",
       "    </tr>\n",
       "    <tr>\n",
       "      <th>7</th>\n",
       "      <td>Children's furniture</td>\n",
       "      <td>1545.0</td>\n",
       "    </tr>\n",
       "    <tr>\n",
       "      <th>8</th>\n",
       "      <td>Nursery furniture</td>\n",
       "      <td>1545.0</td>\n",
       "    </tr>\n",
       "    <tr>\n",
       "      <th>4</th>\n",
       "      <td>Café furniture</td>\n",
       "      <td>1385.0</td>\n",
       "    </tr>\n",
       "  </tbody>\n",
       "</table>\n",
       "</div>"
      ],
      "text/plain": [
       "                                category   price\n",
       "12                     Sofas & armchairs  9585.0\n",
       "1                                   Beds  9585.0\n",
       "16                             Wardrobes  8380.0\n",
       "14                        Tables & desks  6965.0\n",
       "5                                 Chairs  6965.0\n",
       "3                   Cabinets & cupboards  6480.0\n",
       "9                      Outdoor furniture  5144.0\n",
       "2             Bookcases & shelving units  4335.0\n",
       "13                  TV & media furniture  4260.0\n",
       "10                         Room dividers  2397.0\n",
       "0                          Bar furniture  2375.0\n",
       "15                              Trolleys  2295.0\n",
       "11  Sideboards, buffets & console tables  2100.0\n",
       "6       Chests of drawers & drawer units  1880.0\n",
       "7                   Children's furniture  1545.0\n",
       "8                      Nursery furniture  1545.0\n",
       "4                         Café furniture  1385.0"
      ]
     },
     "execution_count": 44,
     "metadata": {},
     "output_type": "execute_result"
    }
   ],
   "source": [
    "#Самые дорогие товары в категории \n",
    "ikea.groupby('category').agg({\n",
    "  \"price\": \"max\"  \n",
    "}).reset_index().sort_values(by='price', ascending=False)"
   ]
  },
  {
   "cell_type": "code",
   "execution_count": 45,
   "id": "3f97a970",
   "metadata": {},
   "outputs": [
    {
     "data": {
      "text/html": [
       "<div>\n",
       "<style scoped>\n",
       "    .dataframe tbody tr th:only-of-type {\n",
       "        vertical-align: middle;\n",
       "    }\n",
       "\n",
       "    .dataframe tbody tr th {\n",
       "        vertical-align: top;\n",
       "    }\n",
       "\n",
       "    .dataframe thead th {\n",
       "        text-align: right;\n",
       "    }\n",
       "</style>\n",
       "<table border=\"1\" class=\"dataframe\">\n",
       "  <thead>\n",
       "    <tr style=\"text-align: right;\">\n",
       "      <th></th>\n",
       "      <th>category</th>\n",
       "      <th>price</th>\n",
       "    </tr>\n",
       "  </thead>\n",
       "  <tbody>\n",
       "    <tr>\n",
       "      <th>2</th>\n",
       "      <td>Bookcases &amp; shelving units</td>\n",
       "      <td>3.0</td>\n",
       "    </tr>\n",
       "    <tr>\n",
       "      <th>3</th>\n",
       "      <td>Cabinets &amp; cupboards</td>\n",
       "      <td>3.0</td>\n",
       "    </tr>\n",
       "    <tr>\n",
       "      <th>13</th>\n",
       "      <td>TV &amp; media furniture</td>\n",
       "      <td>3.0</td>\n",
       "    </tr>\n",
       "    <tr>\n",
       "      <th>8</th>\n",
       "      <td>Nursery furniture</td>\n",
       "      <td>5.0</td>\n",
       "    </tr>\n",
       "    <tr>\n",
       "      <th>7</th>\n",
       "      <td>Children's furniture</td>\n",
       "      <td>5.0</td>\n",
       "    </tr>\n",
       "    <tr>\n",
       "      <th>14</th>\n",
       "      <td>Tables &amp; desks</td>\n",
       "      <td>9.0</td>\n",
       "    </tr>\n",
       "    <tr>\n",
       "      <th>9</th>\n",
       "      <td>Outdoor furniture</td>\n",
       "      <td>9.0</td>\n",
       "    </tr>\n",
       "    <tr>\n",
       "      <th>5</th>\n",
       "      <td>Chairs</td>\n",
       "      <td>11.4</td>\n",
       "    </tr>\n",
       "    <tr>\n",
       "      <th>12</th>\n",
       "      <td>Sofas &amp; armchairs</td>\n",
       "      <td>27.0</td>\n",
       "    </tr>\n",
       "    <tr>\n",
       "      <th>1</th>\n",
       "      <td>Beds</td>\n",
       "      <td>30.0</td>\n",
       "    </tr>\n",
       "    <tr>\n",
       "      <th>15</th>\n",
       "      <td>Trolleys</td>\n",
       "      <td>39.0</td>\n",
       "    </tr>\n",
       "    <tr>\n",
       "      <th>0</th>\n",
       "      <td>Bar furniture</td>\n",
       "      <td>40.0</td>\n",
       "    </tr>\n",
       "    <tr>\n",
       "      <th>16</th>\n",
       "      <td>Wardrobes</td>\n",
       "      <td>45.0</td>\n",
       "    </tr>\n",
       "    <tr>\n",
       "      <th>6</th>\n",
       "      <td>Chests of drawers &amp; drawer units</td>\n",
       "      <td>49.0</td>\n",
       "    </tr>\n",
       "    <tr>\n",
       "      <th>4</th>\n",
       "      <td>Café furniture</td>\n",
       "      <td>145.0</td>\n",
       "    </tr>\n",
       "    <tr>\n",
       "      <th>10</th>\n",
       "      <td>Room dividers</td>\n",
       "      <td>189.0</td>\n",
       "    </tr>\n",
       "    <tr>\n",
       "      <th>11</th>\n",
       "      <td>Sideboards, buffets &amp; console tables</td>\n",
       "      <td>295.0</td>\n",
       "    </tr>\n",
       "  </tbody>\n",
       "</table>\n",
       "</div>"
      ],
      "text/plain": [
       "                                category  price\n",
       "2             Bookcases & shelving units    3.0\n",
       "3                   Cabinets & cupboards    3.0\n",
       "13                  TV & media furniture    3.0\n",
       "8                      Nursery furniture    5.0\n",
       "7                   Children's furniture    5.0\n",
       "14                        Tables & desks    9.0\n",
       "9                      Outdoor furniture    9.0\n",
       "5                                 Chairs   11.4\n",
       "12                     Sofas & armchairs   27.0\n",
       "1                                   Beds   30.0\n",
       "15                              Trolleys   39.0\n",
       "0                          Bar furniture   40.0\n",
       "16                             Wardrobes   45.0\n",
       "6       Chests of drawers & drawer units   49.0\n",
       "4                         Café furniture  145.0\n",
       "10                         Room dividers  189.0\n",
       "11  Sideboards, buffets & console tables  295.0"
      ]
     },
     "execution_count": 45,
     "metadata": {},
     "output_type": "execute_result"
    }
   ],
   "source": [
    "#Самые дешевые товары в категории \n",
    "ikea.groupby('category').agg({\n",
    "  \"price\": \"min\"  \n",
    "}).reset_index().sort_values(by='price', ascending=True)"
   ]
  },
  {
   "cell_type": "code",
   "execution_count": 46,
   "id": "f9e8f8de",
   "metadata": {},
   "outputs": [
    {
     "data": {
      "text/html": [
       "<div>\n",
       "<style scoped>\n",
       "    .dataframe tbody tr th:only-of-type {\n",
       "        vertical-align: middle;\n",
       "    }\n",
       "\n",
       "    .dataframe tbody tr th {\n",
       "        vertical-align: top;\n",
       "    }\n",
       "\n",
       "    .dataframe thead th {\n",
       "        text-align: right;\n",
       "    }\n",
       "</style>\n",
       "<table border=\"1\" class=\"dataframe\">\n",
       "  <thead>\n",
       "    <tr style=\"text-align: right;\">\n",
       "      <th></th>\n",
       "      <th>category</th>\n",
       "      <th>price</th>\n",
       "    </tr>\n",
       "  </thead>\n",
       "  <tbody>\n",
       "    <tr>\n",
       "      <th>16</th>\n",
       "      <td>Wardrobes</td>\n",
       "      <td>2162.141949</td>\n",
       "    </tr>\n",
       "    <tr>\n",
       "      <th>12</th>\n",
       "      <td>Sofas &amp; armchairs</td>\n",
       "      <td>2004.016355</td>\n",
       "    </tr>\n",
       "    <tr>\n",
       "      <th>1</th>\n",
       "      <td>Beds</td>\n",
       "      <td>1647.432692</td>\n",
       "    </tr>\n",
       "    <tr>\n",
       "      <th>14</th>\n",
       "      <td>Tables &amp; desks</td>\n",
       "      <td>1129.395425</td>\n",
       "    </tr>\n",
       "    <tr>\n",
       "      <th>11</th>\n",
       "      <td>Sideboards, buffets &amp; console tables</td>\n",
       "      <td>1068.086957</td>\n",
       "    </tr>\n",
       "    <tr>\n",
       "      <th>5</th>\n",
       "      <td>Chairs</td>\n",
       "      <td>1048.932640</td>\n",
       "    </tr>\n",
       "    <tr>\n",
       "      <th>10</th>\n",
       "      <td>Room dividers</td>\n",
       "      <td>932.000000</td>\n",
       "    </tr>\n",
       "    <tr>\n",
       "      <th>9</th>\n",
       "      <td>Outdoor furniture</td>\n",
       "      <td>859.826852</td>\n",
       "    </tr>\n",
       "    <tr>\n",
       "      <th>3</th>\n",
       "      <td>Cabinets &amp; cupboards</td>\n",
       "      <td>789.015753</td>\n",
       "    </tr>\n",
       "    <tr>\n",
       "      <th>0</th>\n",
       "      <td>Bar furniture</td>\n",
       "      <td>679.553191</td>\n",
       "    </tr>\n",
       "    <tr>\n",
       "      <th>15</th>\n",
       "      <td>Trolleys</td>\n",
       "      <td>678.517857</td>\n",
       "    </tr>\n",
       "    <tr>\n",
       "      <th>13</th>\n",
       "      <td>TV &amp; media furniture</td>\n",
       "      <td>659.050526</td>\n",
       "    </tr>\n",
       "    <tr>\n",
       "      <th>6</th>\n",
       "      <td>Chests of drawers &amp; drawer units</td>\n",
       "      <td>612.180000</td>\n",
       "    </tr>\n",
       "    <tr>\n",
       "      <th>4</th>\n",
       "      <td>Café furniture</td>\n",
       "      <td>553.884615</td>\n",
       "    </tr>\n",
       "    <tr>\n",
       "      <th>2</th>\n",
       "      <td>Bookcases &amp; shelving units</td>\n",
       "      <td>519.416058</td>\n",
       "    </tr>\n",
       "    <tr>\n",
       "      <th>8</th>\n",
       "      <td>Nursery furniture</td>\n",
       "      <td>393.659794</td>\n",
       "    </tr>\n",
       "    <tr>\n",
       "      <th>7</th>\n",
       "      <td>Children's furniture</td>\n",
       "      <td>272.758065</td>\n",
       "    </tr>\n",
       "  </tbody>\n",
       "</table>\n",
       "</div>"
      ],
      "text/plain": [
       "                                category        price\n",
       "16                             Wardrobes  2162.141949\n",
       "12                     Sofas & armchairs  2004.016355\n",
       "1                                   Beds  1647.432692\n",
       "14                        Tables & desks  1129.395425\n",
       "11  Sideboards, buffets & console tables  1068.086957\n",
       "5                                 Chairs  1048.932640\n",
       "10                         Room dividers   932.000000\n",
       "9                      Outdoor furniture   859.826852\n",
       "3                   Cabinets & cupboards   789.015753\n",
       "0                          Bar furniture   679.553191\n",
       "15                              Trolleys   678.517857\n",
       "13                  TV & media furniture   659.050526\n",
       "6       Chests of drawers & drawer units   612.180000\n",
       "4                         Café furniture   553.884615\n",
       "2             Bookcases & shelving units   519.416058\n",
       "8                      Nursery furniture   393.659794\n",
       "7                   Children's furniture   272.758065"
      ]
     },
     "execution_count": 46,
     "metadata": {},
     "output_type": "execute_result"
    }
   ],
   "source": [
    "#Средняя цена за единицу по каждой категории \n",
    "ikea.groupby('category').agg({\n",
    "  \"price\": \"mean\"  \n",
    "}).reset_index().sort_values(by='price', ascending=False)"
   ]
  },
  {
   "cell_type": "code",
   "execution_count": 47,
   "id": "98af8e74",
   "metadata": {},
   "outputs": [
    {
     "data": {
      "text/html": [
       "<div>\n",
       "<style scoped>\n",
       "    .dataframe tbody tr th:only-of-type {\n",
       "        vertical-align: middle;\n",
       "    }\n",
       "\n",
       "    .dataframe tbody tr th {\n",
       "        vertical-align: top;\n",
       "    }\n",
       "\n",
       "    .dataframe thead th {\n",
       "        text-align: right;\n",
       "    }\n",
       "</style>\n",
       "<table border=\"1\" class=\"dataframe\">\n",
       "  <thead>\n",
       "    <tr style=\"text-align: right;\">\n",
       "      <th></th>\n",
       "      <th>category</th>\n",
       "      <th>price</th>\n",
       "    </tr>\n",
       "  </thead>\n",
       "  <tbody>\n",
       "    <tr>\n",
       "      <th>12</th>\n",
       "      <td>Sofas &amp; armchairs</td>\n",
       "      <td>857719.0</td>\n",
       "    </tr>\n",
       "    <tr>\n",
       "      <th>14</th>\n",
       "      <td>Tables &amp; desks</td>\n",
       "      <td>691190.0</td>\n",
       "    </tr>\n",
       "    <tr>\n",
       "      <th>16</th>\n",
       "      <td>Wardrobes</td>\n",
       "      <td>510265.5</td>\n",
       "    </tr>\n",
       "    <tr>\n",
       "      <th>5</th>\n",
       "      <td>Chairs</td>\n",
       "      <td>504536.6</td>\n",
       "    </tr>\n",
       "    <tr>\n",
       "      <th>1</th>\n",
       "      <td>Beds</td>\n",
       "      <td>342666.0</td>\n",
       "    </tr>\n",
       "    <tr>\n",
       "      <th>2</th>\n",
       "      <td>Bookcases &amp; shelving units</td>\n",
       "      <td>284640.0</td>\n",
       "    </tr>\n",
       "    <tr>\n",
       "      <th>3</th>\n",
       "      <td>Cabinets &amp; cupboards</td>\n",
       "      <td>230392.6</td>\n",
       "    </tr>\n",
       "    <tr>\n",
       "      <th>9</th>\n",
       "      <td>Outdoor furniture</td>\n",
       "      <td>185722.6</td>\n",
       "    </tr>\n",
       "    <tr>\n",
       "      <th>13</th>\n",
       "      <td>TV &amp; media furniture</td>\n",
       "      <td>125219.6</td>\n",
       "    </tr>\n",
       "    <tr>\n",
       "      <th>6</th>\n",
       "      <td>Chests of drawers &amp; drawer units</td>\n",
       "      <td>76522.5</td>\n",
       "    </tr>\n",
       "    <tr>\n",
       "      <th>8</th>\n",
       "      <td>Nursery furniture</td>\n",
       "      <td>38185.0</td>\n",
       "    </tr>\n",
       "    <tr>\n",
       "      <th>7</th>\n",
       "      <td>Children's furniture</td>\n",
       "      <td>33822.0</td>\n",
       "    </tr>\n",
       "    <tr>\n",
       "      <th>0</th>\n",
       "      <td>Bar furniture</td>\n",
       "      <td>31939.0</td>\n",
       "    </tr>\n",
       "    <tr>\n",
       "      <th>11</th>\n",
       "      <td>Sideboards, buffets &amp; console tables</td>\n",
       "      <td>24566.0</td>\n",
       "    </tr>\n",
       "    <tr>\n",
       "      <th>15</th>\n",
       "      <td>Trolleys</td>\n",
       "      <td>18998.5</td>\n",
       "    </tr>\n",
       "    <tr>\n",
       "      <th>4</th>\n",
       "      <td>Café furniture</td>\n",
       "      <td>14401.0</td>\n",
       "    </tr>\n",
       "    <tr>\n",
       "      <th>10</th>\n",
       "      <td>Room dividers</td>\n",
       "      <td>12116.0</td>\n",
       "    </tr>\n",
       "  </tbody>\n",
       "</table>\n",
       "</div>"
      ],
      "text/plain": [
       "                                category     price\n",
       "12                     Sofas & armchairs  857719.0\n",
       "14                        Tables & desks  691190.0\n",
       "16                             Wardrobes  510265.5\n",
       "5                                 Chairs  504536.6\n",
       "1                                   Beds  342666.0\n",
       "2             Bookcases & shelving units  284640.0\n",
       "3                   Cabinets & cupboards  230392.6\n",
       "9                      Outdoor furniture  185722.6\n",
       "13                  TV & media furniture  125219.6\n",
       "6       Chests of drawers & drawer units   76522.5\n",
       "8                      Nursery furniture   38185.0\n",
       "7                   Children's furniture   33822.0\n",
       "0                          Bar furniture   31939.0\n",
       "11  Sideboards, buffets & console tables   24566.0\n",
       "15                              Trolleys   18998.5\n",
       "4                         Café furniture   14401.0\n",
       "10                         Room dividers   12116.0"
      ]
     },
     "execution_count": 47,
     "metadata": {},
     "output_type": "execute_result"
    }
   ],
   "source": [
    "#Сумарная стоимость по каждой категории мебели\n",
    "ikea.groupby('category').agg({\n",
    "  \"price\": \"sum\"  \n",
    "}).reset_index().sort_values(by='price', ascending=False)"
   ]
  },
  {
   "cell_type": "code",
   "execution_count": 48,
   "id": "26d4cb56",
   "metadata": {},
   "outputs": [
    {
     "data": {
      "text/plain": [
       "<AxesSubplot:xlabel='price', ylabel='category'>"
      ]
     },
     "execution_count": 48,
     "metadata": {},
     "output_type": "execute_result"
    },
    {
     "data": {
      "image/png": "[encoded data removed]",
      "text/plain": [
       "<Figure size 1368x1080 with 1 Axes>"
      ]
     },
     "metadata": {},
     "output_type": "display_data"
    }
   ],
   "source": [
    "#Визуализируем разброс цены товаров по категории\n",
    "plt.subplots(figsize = (19,15))\n",
    "sns.scatterplot(x='price', y = 'category', data = ikea)"
   ]
  },
  {
   "cell_type": "markdown",
   "id": "bbcc79c3",
   "metadata": {},
   "source": [
    ">Наибольшая суммарная стоимость у категории Sofas & armchairs. Самые дорогие товары у категории Beds и Sofas & armchairs."
   ]
  },
  {
   "cell_type": "code",
   "execution_count": 49,
   "id": "ad574b2e",
   "metadata": {
    "scrolled": true
   },
   "outputs": [
    {
     "data": {
      "text/plain": [
       "Tables & desks                          612\n",
       "Bookcases & shelving units              548\n",
       "Chairs                                  481\n",
       "Sofas & armchairs                       428\n",
       "Cabinets & cupboards                    292\n",
       "Wardrobes                               236\n",
       "Outdoor furniture                       216\n",
       "Beds                                    208\n",
       "TV & media furniture                    190\n",
       "Chests of drawers & drawer units        125\n",
       "Children's furniture                    124\n",
       "Nursery furniture                        97\n",
       "Bar furniture                            47\n",
       "Trolleys                                 28\n",
       "Café furniture                           26\n",
       "Sideboards, buffets & console tables     23\n",
       "Room dividers                            13\n",
       "Name: category, dtype: int64"
      ]
     },
     "execution_count": 49,
     "metadata": {},
     "output_type": "execute_result"
    }
   ],
   "source": [
    "#Количество позиций по каждой категории товаров\n",
    "ikea['category'].value_counts()"
   ]
  },
  {
   "cell_type": "code",
   "execution_count": 50,
   "id": "d225b517",
   "metadata": {},
   "outputs": [
    {
     "data": {
      "text/plain": [
       "<AxesSubplot:xlabel='count', ylabel='category'>"
      ]
     },
     "execution_count": 50,
     "metadata": {},
     "output_type": "execute_result"
    },
    {
     "data": {
      "image/png": "[encoded data removed]",
      "text/plain": [
       "<Figure size 864x576 with 1 Axes>"
      ]
     },
     "metadata": {},
     "output_type": "display_data"
    }
   ],
   "source": [
    "#Построим график количества позиций по каждой категории товаров\n",
    "order = ikea['category'].value_counts().index\n",
    "color = sns.color_palette()[0]\n",
    "color1 = sns.color_palette()[2]\n",
    "\n",
    "plt.figure(figsize=[12, 8])\n",
    "\n",
    "sns.countplot(data=ikea, y='category', order=order, color=color1)"
   ]
  },
  {
   "cell_type": "markdown",
   "id": "031ad723",
   "metadata": {},
   "source": [
    ">Наибольше товаров категории 'Tables & desks'"
   ]
  },
  {
   "cell_type": "code",
   "execution_count": 51,
   "id": "31368267",
   "metadata": {},
   "outputs": [],
   "source": [
    "#Заменяем символы для дальнейшего преобразования\n",
    "ikea['old_price']= ikea['old_price'].astype(str).str.replace('No old price', '0')\n",
    "ikea['old_price'] = ikea['old_price'].str.replace('SR', '')\n",
    "ikea['old_price'] = ikea['old_price'].str.replace(',', '')"
   ]
  },
  {
   "cell_type": "code",
   "execution_count": 52,
   "id": "3edc00e0",
   "metadata": {},
   "outputs": [],
   "source": [
    "#Преобразовуем в числовой тип\n",
    "ikea['old_price']=pd.to_numeric(ikea['old_price'],errors = 'coerce')"
   ]
  },
  {
   "cell_type": "code",
   "execution_count": 53,
   "id": "add1b63a",
   "metadata": {},
   "outputs": [],
   "source": [
    "#Заменяем данные с 0 \n",
    "def fix_old_price(ikea):\n",
    "    if ikea['old_price']  == 0:\n",
    "        return ikea['price']\n",
    "    else:\n",
    "        return ikea['old_price']  \n",
    "    \n",
    "ikea['old_price'] = ikea.apply(fix_old_price, axis=1)\n",
    "ikea['old_price'] = ikea['old_price'].fillna(0)"
   ]
  },
  {
   "cell_type": "code",
   "execution_count": 54,
   "id": "6564532f",
   "metadata": {},
   "outputs": [
    {
     "data": {
      "image/png": "[encoded data removed]",
      "text/plain": [
       "<Figure size 432x288 with 2 Axes>"
      ]
     },
     "metadata": {},
     "output_type": "display_data"
    },
    {
     "data": {
      "text/plain": [
       "<Figure size 1440x720 with 0 Axes>"
      ]
     },
     "metadata": {},
     "output_type": "display_data"
    }
   ],
   "source": [
    "# Визиализируем отношение старой цены к цене после скидки\n",
    "fig, ax = plt.subplots()\n",
    "plt.figure(figsize=[20, 10])\n",
    "sns.regplot(x='price', y='old_price', data=ikea, ax=ax)\n",
    "ax2 = ax.twinx()\n",
    "sns.regplot(x='old_price', y='price', data=ikea, ax=ax2, color='r')\n",
    "plt.show()"
   ]
  },
  {
   "cell_type": "markdown",
   "id": "eeff2664",
   "metadata": {},
   "source": [
    ">На графике видно связь между старой ценой и ценой после скидки, виден рост величины скидки по мере роста цены, что говорит о зависимости между ценой и размером скидки"
   ]
  },
  {
   "cell_type": "code",
   "execution_count": 55,
   "id": "0bd3411d",
   "metadata": {},
   "outputs": [
    {
     "data": {
      "text/plain": [
       "0         0.0\n",
       "1         0.0\n",
       "2         0.0\n",
       "3         0.0\n",
       "4         0.0\n",
       "        ...  \n",
       "3689     70.0\n",
       "3690    183.0\n",
       "3691    126.0\n",
       "3692    385.0\n",
       "3693    304.0\n",
       "Name: discount, Length: 3694, dtype: float64"
      ]
     },
     "execution_count": 55,
     "metadata": {},
     "output_type": "execute_result"
    }
   ],
   "source": [
    "#Подсчитываем скидку\n",
    "ikea['discount'] = ikea['old_price'] - ikea['price']\n",
    "ikea['discount']"
   ]
  },
  {
   "cell_type": "code",
   "execution_count": 56,
   "id": "07ed33e9",
   "metadata": {},
   "outputs": [
    {
     "data": {
      "text/plain": [
       "3040"
      ]
     },
     "execution_count": 56,
     "metadata": {},
     "output_type": "execute_result"
    }
   ],
   "source": [
    "# Количество товар без скидки\n",
    "ikea[ikea['discount'] == 0].item_id.count()"
   ]
  },
  {
   "cell_type": "code",
   "execution_count": 57,
   "id": "a5f1a32a",
   "metadata": {},
   "outputs": [
    {
     "data": {
      "text/plain": [
       "<AxesSubplot:xlabel='discount', ylabel='price'>"
      ]
     },
     "execution_count": 57,
     "metadata": {},
     "output_type": "execute_result"
    },
    {
     "data": {
      "image/png": "[encoded data removed]",
      "text/plain": [
       "<Figure size 936x576 with 1 Axes>"
      ]
     },
     "metadata": {},
     "output_type": "display_data"
    }
   ],
   "source": [
    "# Визиализируем отношение старой цены к скидки\n",
    "plt.figure(figsize=[13, 8])\n",
    "\n",
    "sns.regplot(x='discount', y='price', data=ikea)"
   ]
  },
  {
   "cell_type": "markdown",
   "id": "5c5da1ed",
   "metadata": {},
   "source": [
    ">Большенство товаров без скидки, товары дороже 8000 не имеют скидки."
   ]
  },
  {
   "cell_type": "code",
   "execution_count": 58,
   "id": "cdb85f91",
   "metadata": {},
   "outputs": [
    {
     "data": {
      "text/plain": [
       "True     3666\n",
       "False      28\n",
       "Name: sellable_online, dtype: int64"
      ]
     },
     "execution_count": 58,
     "metadata": {},
     "output_type": "execute_result"
    }
   ],
   "source": [
    "#Количество позиций продаваемых онлайн\n",
    "ikea['sellable_online'].value_counts()"
   ]
  },
  {
   "cell_type": "code",
   "execution_count": 59,
   "id": "42b914f2",
   "metadata": {},
   "outputs": [
    {
     "data": {
      "text/plain": [
       "<matplotlib.legend.Legend at 0x2033fd9fcd0>"
      ]
     },
     "execution_count": 59,
     "metadata": {},
     "output_type": "execute_result"
    },
    {
     "data": {
      "image/png": "[encoded data removed]",
      "text/plain": [
       "<Figure size 504x504 with 1 Axes>"
      ]
     },
     "metadata": {},
     "output_type": "display_data"
    }
   ],
   "source": [
    "count_sel_onl = ikea['sellable_online'].value_counts()\n",
    "\n",
    "plt.figure(figsize=[7, 7])\n",
    "explode = (0, 0.7)\n",
    "\n",
    "plt.pie(count_sel_onl, explode=explode, autopct='%1.1f%%')\n",
    "\n",
    "plt.legend(ikea['sellable_online'])"
   ]
  },
  {
   "cell_type": "markdown",
   "id": "438149a9",
   "metadata": {},
   "source": [
    ">99,2% товаров розмещенны в онлайн-магазине"
   ]
  },
  {
   "cell_type": "code",
   "execution_count": 60,
   "id": "0ff91d85",
   "metadata": {},
   "outputs": [
    {
     "data": {
      "text/plain": [
       "No     2182\n",
       "Yes    1512\n",
       "Name: other_colors, dtype: int64"
      ]
     },
     "execution_count": 60,
     "metadata": {},
     "output_type": "execute_result"
    }
   ],
   "source": [
    "#Количество позиций c разными цветами и в одном цвете\n",
    "ikea['other_colors'].value_counts()"
   ]
  },
  {
   "cell_type": "code",
   "execution_count": 61,
   "id": "5a71e0c2",
   "metadata": {},
   "outputs": [
    {
     "data": {
      "text/plain": [
       "<matplotlib.legend.Legend at 0x2033fd7a7a0>"
      ]
     },
     "execution_count": 61,
     "metadata": {},
     "output_type": "execute_result"
    },
    {
     "data": {
      "image/png": "[encoded data removed]",
      "text/plain": [
       "<Figure size 504x504 with 1 Axes>"
      ]
     },
     "metadata": {},
     "output_type": "display_data"
    }
   ],
   "source": [
    "count_oth_col = ikea['other_colors'].value_counts()\n",
    "\n",
    "plt.figure(figsize=[7, 7])\n",
    "explode = (0, 0)\n",
    "\n",
    "plt.pie(count_oth_col, explode=explode, autopct='%1.1f%%')\n",
    "\n",
    "plt.legend(ikea['other_colors'])"
   ]
  },
  {
   "cell_type": "markdown",
   "id": "7f3232c8",
   "metadata": {},
   "source": [
    ">59,1% товаров представленны в одном цвете"
   ]
  },
  {
   "cell_type": "code",
   "execution_count": 62,
   "id": "55e68620",
   "metadata": {},
   "outputs": [
    {
     "data": {
      "image/png": "[encoded data removed]",
      "text/plain": [
       "<Figure size 432x288 with 1 Axes>"
      ]
     },
     "metadata": {},
     "output_type": "display_data"
    }
   ],
   "source": [
    "#Визуализация сумарной цены позиций c разными цветами и в одном цвете\n",
    "plt.figure(figsize=[6, 4])\n",
    "\n",
    "sns.barplot(data=ikea, y='price', x='other_colors', color=color1)\n",
    "plt.xticks(rotation=90);"
   ]
  },
  {
   "cell_type": "markdown",
   "id": "6b69c4a6",
   "metadata": {},
   "source": [
    ">Мебель с разными цветовыми вариантами исполнения стоит дороже"
   ]
  },
  {
   "cell_type": "code",
   "execution_count": 63,
   "id": "ebb3d199",
   "metadata": {},
   "outputs": [
    {
     "data": {
      "text/html": [
       "<div>\n",
       "<style scoped>\n",
       "    .dataframe tbody tr th:only-of-type {\n",
       "        vertical-align: middle;\n",
       "    }\n",
       "\n",
       "    .dataframe tbody tr th {\n",
       "        vertical-align: top;\n",
       "    }\n",
       "\n",
       "    .dataframe thead th {\n",
       "        text-align: right;\n",
       "    }\n",
       "</style>\n",
       "<table border=\"1\" class=\"dataframe\">\n",
       "  <thead>\n",
       "    <tr style=\"text-align: right;\">\n",
       "      <th></th>\n",
       "      <th>category</th>\n",
       "      <th>width</th>\n",
       "      <th>height</th>\n",
       "      <th>depth</th>\n",
       "    </tr>\n",
       "  </thead>\n",
       "  <tbody>\n",
       "    <tr>\n",
       "      <th>0</th>\n",
       "      <td>Bar furniture</td>\n",
       "      <td>80.0</td>\n",
       "      <td>114.0</td>\n",
       "      <td>60.0</td>\n",
       "    </tr>\n",
       "    <tr>\n",
       "      <th>1</th>\n",
       "      <td>Beds</td>\n",
       "      <td>387.0</td>\n",
       "      <td>195.0</td>\n",
       "      <td>164.0</td>\n",
       "    </tr>\n",
       "    <tr>\n",
       "      <th>2</th>\n",
       "      <td>Bookcases &amp; shelving units</td>\n",
       "      <td>344.0</td>\n",
       "      <td>240.0</td>\n",
       "      <td>159.0</td>\n",
       "    </tr>\n",
       "    <tr>\n",
       "      <th>3</th>\n",
       "      <td>Cabinets &amp; cupboards</td>\n",
       "      <td>320.0</td>\n",
       "      <td>301.0</td>\n",
       "      <td>100.0</td>\n",
       "    </tr>\n",
       "    <tr>\n",
       "      <th>4</th>\n",
       "      <td>Café furniture</td>\n",
       "      <td>74.0</td>\n",
       "      <td>105.0</td>\n",
       "      <td>51.0</td>\n",
       "    </tr>\n",
       "    <tr>\n",
       "      <th>5</th>\n",
       "      <td>Chairs</td>\n",
       "      <td>159.0</td>\n",
       "      <td>173.0</td>\n",
       "      <td>164.0</td>\n",
       "    </tr>\n",
       "    <tr>\n",
       "      <th>6</th>\n",
       "      <td>Chests of drawers &amp; drawer units</td>\n",
       "      <td>161.0</td>\n",
       "      <td>145.0</td>\n",
       "      <td>60.0</td>\n",
       "    </tr>\n",
       "    <tr>\n",
       "      <th>7</th>\n",
       "      <td>Children's furniture</td>\n",
       "      <td>150.0</td>\n",
       "      <td>192.0</td>\n",
       "      <td>69.0</td>\n",
       "    </tr>\n",
       "    <tr>\n",
       "      <th>8</th>\n",
       "      <td>Nursery furniture</td>\n",
       "      <td>150.0</td>\n",
       "      <td>192.0</td>\n",
       "      <td>79.0</td>\n",
       "    </tr>\n",
       "    <tr>\n",
       "      <th>9</th>\n",
       "      <td>Outdoor furniture</td>\n",
       "      <td>341.0</td>\n",
       "      <td>179.0</td>\n",
       "      <td>144.0</td>\n",
       "    </tr>\n",
       "    <tr>\n",
       "      <th>10</th>\n",
       "      <td>Room dividers</td>\n",
       "      <td>261.0</td>\n",
       "      <td>182.0</td>\n",
       "      <td>51.0</td>\n",
       "    </tr>\n",
       "    <tr>\n",
       "      <th>11</th>\n",
       "      <td>Sideboards, buffets &amp; console tables</td>\n",
       "      <td>180.0</td>\n",
       "      <td>240.0</td>\n",
       "      <td>48.0</td>\n",
       "    </tr>\n",
       "    <tr>\n",
       "      <th>12</th>\n",
       "      <td>Sofas &amp; armchairs</td>\n",
       "      <td>387.0</td>\n",
       "      <td>104.0</td>\n",
       "      <td>257.0</td>\n",
       "    </tr>\n",
       "    <tr>\n",
       "      <th>13</th>\n",
       "      <td>TV &amp; media furniture</td>\n",
       "      <td>336.0</td>\n",
       "      <td>251.0</td>\n",
       "      <td>100.0</td>\n",
       "    </tr>\n",
       "    <tr>\n",
       "      <th>14</th>\n",
       "      <td>Tables &amp; desks</td>\n",
       "      <td>233.0</td>\n",
       "      <td>700.0</td>\n",
       "      <td>220.0</td>\n",
       "    </tr>\n",
       "    <tr>\n",
       "      <th>15</th>\n",
       "      <td>Trolleys</td>\n",
       "      <td>143.0</td>\n",
       "      <td>146.0</td>\n",
       "      <td>79.0</td>\n",
       "    </tr>\n",
       "    <tr>\n",
       "      <th>16</th>\n",
       "      <td>Wardrobes</td>\n",
       "      <td>420.0</td>\n",
       "      <td>321.0</td>\n",
       "      <td>210.0</td>\n",
       "    </tr>\n",
       "  </tbody>\n",
       "</table>\n",
       "</div>"
      ],
      "text/plain": [
       "                                category  width  height  depth\n",
       "0                          Bar furniture   80.0   114.0   60.0\n",
       "1                                   Beds  387.0   195.0  164.0\n",
       "2             Bookcases & shelving units  344.0   240.0  159.0\n",
       "3                   Cabinets & cupboards  320.0   301.0  100.0\n",
       "4                         Café furniture   74.0   105.0   51.0\n",
       "5                                 Chairs  159.0   173.0  164.0\n",
       "6       Chests of drawers & drawer units  161.0   145.0   60.0\n",
       "7                   Children's furniture  150.0   192.0   69.0\n",
       "8                      Nursery furniture  150.0   192.0   79.0\n",
       "9                      Outdoor furniture  341.0   179.0  144.0\n",
       "10                         Room dividers  261.0   182.0   51.0\n",
       "11  Sideboards, buffets & console tables  180.0   240.0   48.0\n",
       "12                     Sofas & armchairs  387.0   104.0  257.0\n",
       "13                  TV & media furniture  336.0   251.0  100.0\n",
       "14                        Tables & desks  233.0   700.0  220.0\n",
       "15                              Trolleys  143.0   146.0   79.0\n",
       "16                             Wardrobes  420.0   321.0  210.0"
      ]
     },
     "execution_count": 63,
     "metadata": {},
     "output_type": "execute_result"
    }
   ],
   "source": [
    "#С помошью групировки по колонке 'category' получаем максимальные значения для каждой category\n",
    "ikea.groupby('category').agg({\n",
    "  \"width\": \"max\",\n",
    "  \"height\": \"max\",\n",
    "  \"depth\": \"max\"  \n",
    "}).reset_index()"
   ]
  },
  {
   "cell_type": "code",
   "execution_count": 64,
   "id": "7f06c8e6",
   "metadata": {
    "scrolled": true
   },
   "outputs": [
    {
     "data": {
      "text/html": [
       "<div>\n",
       "<style scoped>\n",
       "    .dataframe tbody tr th:only-of-type {\n",
       "        vertical-align: middle;\n",
       "    }\n",
       "\n",
       "    .dataframe tbody tr th {\n",
       "        vertical-align: top;\n",
       "    }\n",
       "\n",
       "    .dataframe thead th {\n",
       "        text-align: right;\n",
       "    }\n",
       "</style>\n",
       "<table border=\"1\" class=\"dataframe\">\n",
       "  <thead>\n",
       "    <tr style=\"text-align: right;\">\n",
       "      <th></th>\n",
       "      <th>category</th>\n",
       "      <th>width</th>\n",
       "      <th>height</th>\n",
       "      <th>depth</th>\n",
       "    </tr>\n",
       "  </thead>\n",
       "  <tbody>\n",
       "    <tr>\n",
       "      <th>0</th>\n",
       "      <td>Bar furniture</td>\n",
       "      <td>52.945946</td>\n",
       "      <td>97.571429</td>\n",
       "      <td>46.925926</td>\n",
       "    </tr>\n",
       "    <tr>\n",
       "      <th>1</th>\n",
       "      <td>Beds</td>\n",
       "      <td>141.983784</td>\n",
       "      <td>82.847134</td>\n",
       "      <td>81.734940</td>\n",
       "    </tr>\n",
       "    <tr>\n",
       "      <th>2</th>\n",
       "      <td>Bookcases &amp; shelving units</td>\n",
       "      <td>106.563008</td>\n",
       "      <td>131.097285</td>\n",
       "      <td>36.922737</td>\n",
       "    </tr>\n",
       "    <tr>\n",
       "      <th>3</th>\n",
       "      <td>Cabinets &amp; cupboards</td>\n",
       "      <td>98.750000</td>\n",
       "      <td>113.408696</td>\n",
       "      <td>37.493671</td>\n",
       "    </tr>\n",
       "    <tr>\n",
       "      <th>4</th>\n",
       "      <td>Café furniture</td>\n",
       "      <td>54.333333</td>\n",
       "      <td>80.954545</td>\n",
       "      <td>44.785714</td>\n",
       "    </tr>\n",
       "    <tr>\n",
       "      <th>5</th>\n",
       "      <td>Chairs</td>\n",
       "      <td>66.156812</td>\n",
       "      <td>76.837931</td>\n",
       "      <td>60.676259</td>\n",
       "    </tr>\n",
       "    <tr>\n",
       "      <th>6</th>\n",
       "      <td>Chests of drawers &amp; drawer units</td>\n",
       "      <td>76.664000</td>\n",
       "      <td>78.487805</td>\n",
       "      <td>47.157025</td>\n",
       "    </tr>\n",
       "    <tr>\n",
       "      <th>7</th>\n",
       "      <td>Children's furniture</td>\n",
       "      <td>63.000000</td>\n",
       "      <td>75.857143</td>\n",
       "      <td>44.521277</td>\n",
       "    </tr>\n",
       "    <tr>\n",
       "      <th>8</th>\n",
       "      <td>Nursery furniture</td>\n",
       "      <td>64.709677</td>\n",
       "      <td>84.821429</td>\n",
       "      <td>43.090909</td>\n",
       "    </tr>\n",
       "    <tr>\n",
       "      <th>9</th>\n",
       "      <td>Outdoor furniture</td>\n",
       "      <td>88.154762</td>\n",
       "      <td>75.503817</td>\n",
       "      <td>68.221154</td>\n",
       "    </tr>\n",
       "    <tr>\n",
       "      <th>10</th>\n",
       "      <td>Room dividers</td>\n",
       "      <td>152.083333</td>\n",
       "      <td>143.750000</td>\n",
       "      <td>40.500000</td>\n",
       "    </tr>\n",
       "    <tr>\n",
       "      <th>11</th>\n",
       "      <td>Sideboards, buffets &amp; console tables</td>\n",
       "      <td>116.391304</td>\n",
       "      <td>110.043478</td>\n",
       "      <td>41.100000</td>\n",
       "    </tr>\n",
       "    <tr>\n",
       "      <th>12</th>\n",
       "      <td>Sofas &amp; armchairs</td>\n",
       "      <td>186.908425</td>\n",
       "      <td>77.233216</td>\n",
       "      <td>106.320346</td>\n",
       "    </tr>\n",
       "    <tr>\n",
       "      <th>13</th>\n",
       "      <td>TV &amp; media furniture</td>\n",
       "      <td>132.285714</td>\n",
       "      <td>99.664062</td>\n",
       "      <td>37.150376</td>\n",
       "    </tr>\n",
       "    <tr>\n",
       "      <th>14</th>\n",
       "      <td>Tables &amp; desks</td>\n",
       "      <td>76.494990</td>\n",
       "      <td>72.610169</td>\n",
       "      <td>52.813953</td>\n",
       "    </tr>\n",
       "    <tr>\n",
       "      <th>15</th>\n",
       "      <td>Trolleys</td>\n",
       "      <td>58.500000</td>\n",
       "      <td>86.592593</td>\n",
       "      <td>49.777778</td>\n",
       "    </tr>\n",
       "    <tr>\n",
       "      <th>16</th>\n",
       "      <td>Wardrobes</td>\n",
       "      <td>163.866379</td>\n",
       "      <td>216.537736</td>\n",
       "      <td>55.599099</td>\n",
       "    </tr>\n",
       "  </tbody>\n",
       "</table>\n",
       "</div>"
      ],
      "text/plain": [
       "                                category       width      height       depth\n",
       "0                          Bar furniture   52.945946   97.571429   46.925926\n",
       "1                                   Beds  141.983784   82.847134   81.734940\n",
       "2             Bookcases & shelving units  106.563008  131.097285   36.922737\n",
       "3                   Cabinets & cupboards   98.750000  113.408696   37.493671\n",
       "4                         Café furniture   54.333333   80.954545   44.785714\n",
       "5                                 Chairs   66.156812   76.837931   60.676259\n",
       "6       Chests of drawers & drawer units   76.664000   78.487805   47.157025\n",
       "7                   Children's furniture   63.000000   75.857143   44.521277\n",
       "8                      Nursery furniture   64.709677   84.821429   43.090909\n",
       "9                      Outdoor furniture   88.154762   75.503817   68.221154\n",
       "10                         Room dividers  152.083333  143.750000   40.500000\n",
       "11  Sideboards, buffets & console tables  116.391304  110.043478   41.100000\n",
       "12                     Sofas & armchairs  186.908425   77.233216  106.320346\n",
       "13                  TV & media furniture  132.285714   99.664062   37.150376\n",
       "14                        Tables & desks   76.494990   72.610169   52.813953\n",
       "15                              Trolleys   58.500000   86.592593   49.777778\n",
       "16                             Wardrobes  163.866379  216.537736   55.599099"
      ]
     },
     "execution_count": 64,
     "metadata": {},
     "output_type": "execute_result"
    }
   ],
   "source": [
    "#С помошью групировки по колонке 'category' получаем среднее значения для каждой category\n",
    "ikea.groupby('category').agg({\n",
    "  \"width\": \"mean\",\n",
    "  \"height\": \"mean\",\n",
    "  \"depth\": \"mean\"  \n",
    "}).reset_index()"
   ]
  },
  {
   "cell_type": "markdown",
   "id": "f12afc9c",
   "metadata": {},
   "source": [
    ">С группировки видно, что у объектов две из трех сторон имеют превосходящий размер ,что можно использовать при определени категории мебели."
   ]
  },
  {
   "cell_type": "code",
   "execution_count": 65,
   "id": "fe3f36d6",
   "metadata": {
    "scrolled": true
   },
   "outputs": [
    {
     "name": "stderr",
     "output_type": "stream",
     "text": [
      "C:\\Users\\Стас\\AppData\\Local\\Temp\\ipykernel_16308\\2266325458.py:2: FutureWarning: Indexing with multiple keys (implicitly converted to a tuple of keys) will be deprecated, use a list instead.\n",
      "  ikea[['width', 'height', 'depth']] = ikea.groupby(['category'])['width', 'height', 'depth'].transform(lambda x: x.fillna(x.mean()))\n"
     ]
    }
   ],
   "source": [
    "#Заполняем средним пустые значения 'width', 'height', 'depth'\n",
    "ikea[['width', 'height', 'depth']] = ikea.groupby(['category'])['width', 'height', 'depth'].transform(lambda x: x.fillna(x.mean()))"
   ]
  },
  {
   "cell_type": "code",
   "execution_count": 66,
   "id": "fe421d97",
   "metadata": {},
   "outputs": [],
   "source": [
    "#Обьем мебели\n",
    "ikea['v_furniture']=(ikea['depth']*ikea['height']*ikea['width'])/100**3"
   ]
  },
  {
   "cell_type": "code",
   "execution_count": 67,
   "id": "4d57c474",
   "metadata": {},
   "outputs": [
    {
     "data": {
      "text/plain": [
       "(0.0, 9000.0)"
      ]
     },
     "execution_count": 67,
     "metadata": {},
     "output_type": "execute_result"
    },
    {
     "data": {
      "image/png": "[encoded data removed]",
      "text/plain": [
       "<Figure size 1440x720 with 1 Axes>"
      ]
     },
     "metadata": {},
     "output_type": "display_data"
    }
   ],
   "source": [
    "# Визиализируем отношение старой цены к скидки\n",
    "plt.figure(figsize=[20, 10])\n",
    "\n",
    "sns.regplot(x='price', y='v_furniture', data=ikea)\n",
    "plt.ylim(0,8)\n",
    "plt.xlim(0,9000)"
   ]
  },
  {
   "cell_type": "code",
   "execution_count": 68,
   "id": "70f879c9",
   "metadata": {},
   "outputs": [
    {
     "data": {
      "text/html": [
       "<div>\n",
       "<style scoped>\n",
       "    .dataframe tbody tr th:only-of-type {\n",
       "        vertical-align: middle;\n",
       "    }\n",
       "\n",
       "    .dataframe tbody tr th {\n",
       "        vertical-align: top;\n",
       "    }\n",
       "\n",
       "    .dataframe thead th {\n",
       "        text-align: right;\n",
       "    }\n",
       "</style>\n",
       "<table border=\"1\" class=\"dataframe\">\n",
       "  <thead>\n",
       "    <tr style=\"text-align: right;\">\n",
       "      <th></th>\n",
       "      <th>v_furniture</th>\n",
       "    </tr>\n",
       "    <tr>\n",
       "      <th>category</th>\n",
       "      <th></th>\n",
       "    </tr>\n",
       "  </thead>\n",
       "  <tbody>\n",
       "    <tr>\n",
       "      <th>Bar furniture</th>\n",
       "      <td>0.243797</td>\n",
       "    </tr>\n",
       "    <tr>\n",
       "      <th>Beds</th>\n",
       "      <td>1.072271</td>\n",
       "    </tr>\n",
       "    <tr>\n",
       "      <th>Bookcases &amp; shelving units</th>\n",
       "      <td>0.594176</td>\n",
       "    </tr>\n",
       "    <tr>\n",
       "      <th>Cabinets &amp; cupboards</th>\n",
       "      <td>0.492954</td>\n",
       "    </tr>\n",
       "    <tr>\n",
       "      <th>Café furniture</th>\n",
       "      <td>0.202506</td>\n",
       "    </tr>\n",
       "    <tr>\n",
       "      <th>Chairs</th>\n",
       "      <td>0.332867</td>\n",
       "    </tr>\n",
       "    <tr>\n",
       "      <th>Chests of drawers &amp; drawer units</th>\n",
       "      <td>0.297941</td>\n",
       "    </tr>\n",
       "    <tr>\n",
       "      <th>Children's furniture</th>\n",
       "      <td>0.237278</td>\n",
       "    </tr>\n",
       "    <tr>\n",
       "      <th>Nursery furniture</th>\n",
       "      <td>0.267895</td>\n",
       "    </tr>\n",
       "    <tr>\n",
       "      <th>Outdoor furniture</th>\n",
       "      <td>0.516430</td>\n",
       "    </tr>\n",
       "    <tr>\n",
       "      <th>Room dividers</th>\n",
       "      <td>0.931127</td>\n",
       "    </tr>\n",
       "    <tr>\n",
       "      <th>Sideboards, buffets &amp; console tables</th>\n",
       "      <td>0.526596</td>\n",
       "    </tr>\n",
       "    <tr>\n",
       "      <th>Sofas &amp; armchairs</th>\n",
       "      <td>1.729390</td>\n",
       "    </tr>\n",
       "    <tr>\n",
       "      <th>TV &amp; media furniture</th>\n",
       "      <td>0.623977</td>\n",
       "    </tr>\n",
       "    <tr>\n",
       "      <th>Tables &amp; desks</th>\n",
       "      <td>0.308289</td>\n",
       "    </tr>\n",
       "    <tr>\n",
       "      <th>Trolleys</th>\n",
       "      <td>0.272437</td>\n",
       "    </tr>\n",
       "    <tr>\n",
       "      <th>Wardrobes</th>\n",
       "      <td>2.045774</td>\n",
       "    </tr>\n",
       "  </tbody>\n",
       "</table>\n",
       "</div>"
      ],
      "text/plain": [
       "                                      v_furniture\n",
       "category                                         \n",
       "Bar furniture                            0.243797\n",
       "Beds                                     1.072271\n",
       "Bookcases & shelving units               0.594176\n",
       "Cabinets & cupboards                     0.492954\n",
       "Café furniture                           0.202506\n",
       "Chairs                                   0.332867\n",
       "Chests of drawers & drawer units         0.297941\n",
       "Children's furniture                     0.237278\n",
       "Nursery furniture                        0.267895\n",
       "Outdoor furniture                        0.516430\n",
       "Room dividers                            0.931127\n",
       "Sideboards, buffets & console tables     0.526596\n",
       "Sofas & armchairs                        1.729390\n",
       "TV & media furniture                     0.623977\n",
       "Tables & desks                           0.308289\n",
       "Trolleys                                 0.272437\n",
       "Wardrobes                                2.045774"
      ]
     },
     "execution_count": 68,
     "metadata": {},
     "output_type": "execute_result"
    }
   ],
   "source": [
    "#Средний обьем по категории \n",
    "ikea.groupby('category').v_furniture.mean().to_frame()"
   ]
  },
  {
   "cell_type": "markdown",
   "id": "e5113790",
   "metadata": {},
   "source": [
    ">По полученным данным видно, что больнее дешевые имеют небольшой объем"
   ]
  },
  {
   "cell_type": "code",
   "execution_count": 69,
   "id": "c82021fb",
   "metadata": {},
   "outputs": [
    {
     "data": {
      "text/plain": [
       "0        0\n",
       "1        0\n",
       "2        0\n",
       "3        0\n",
       "4        0\n",
       "        ..\n",
       "3689    16\n",
       "3690    16\n",
       "3691    16\n",
       "3692    16\n",
       "3693    16\n",
       "Name: category_le, Length: 3694, dtype: int32"
      ]
     },
     "execution_count": 69,
     "metadata": {},
     "output_type": "execute_result"
    }
   ],
   "source": [
    "#Кодирование категорий\n",
    "le = LabelEncoder()\n",
    "le. fit(ikea.category)\n",
    "ikea['category_le'] = le.transform(ikea.category)\n",
    "ikea['category_le']"
   ]
  },
  {
   "cell_type": "code",
   "execution_count": 70,
   "id": "12db75cd",
   "metadata": {},
   "outputs": [
    {
     "data": {
      "text/plain": [
       "0       0\n",
       "1       0\n",
       "2       0\n",
       "3       1\n",
       "4       0\n",
       "       ..\n",
       "3689    0\n",
       "3690    0\n",
       "3691    0\n",
       "3692    0\n",
       "3693    0\n",
       "Name: other_colors_le, Length: 3694, dtype: int32"
      ]
     },
     "execution_count": 70,
     "metadata": {},
     "output_type": "execute_result"
    }
   ],
   "source": [
    "#Кодирование 'other_colors'\n",
    "le = LabelEncoder()\n",
    "le.fit(ikea.other_colors)\n",
    "ikea['other_colors_le'] = le.transform(ikea.other_colors)\n",
    "ikea['other_colors_le']"
   ]
  },
  {
   "cell_type": "code",
   "execution_count": 71,
   "id": "fa1f2ce6",
   "metadata": {},
   "outputs": [],
   "source": [
    "#Создаем колонки с площадями сторон мебели\n",
    "ikea['s1'] = ikea['depth']*ikea['height']\n",
    "ikea['s2'] = ikea['width']*ikea['height']\n",
    "ikea['s3'] = ikea['width']*ikea['depth']"
   ]
  },
  {
   "cell_type": "code",
   "execution_count": 72,
   "id": "30eef03b",
   "metadata": {},
   "outputs": [
    {
     "data": {
      "text/plain": [
       "Unnamed: 0           0\n",
       "item_id              0\n",
       "name                 0\n",
       "category             0\n",
       "price                0\n",
       "old_price            0\n",
       "sellable_online      0\n",
       "link                 0\n",
       "other_colors         0\n",
       "short_description    0\n",
       "designer             0\n",
       "depth                0\n",
       "height               0\n",
       "width                0\n",
       "discount             0\n",
       "v_furniture          0\n",
       "category_le          0\n",
       "other_colors_le      0\n",
       "s1                   0\n",
       "s2                   0\n",
       "s3                   0\n",
       "dtype: int64"
      ]
     },
     "execution_count": 72,
     "metadata": {},
     "output_type": "execute_result"
    }
   ],
   "source": [
    "#Проверка на пустые значения перед обучением модели\n",
    "ikea.isna().sum()"
   ]
  },
  {
   "cell_type": "markdown",
   "id": "b9b4cefa",
   "metadata": {},
   "source": [
    "<h1>Проверка гипотез</h1>"
   ]
  },
  {
   "cell_type": "markdown",
   "id": "d13fcc3d",
   "metadata": {},
   "source": [
    "<h2>1.Проверка разницы между двумя средними значениями совокупности</h2>"
   ]
  },
  {
   "cell_type": "markdown",
   "id": "8cfdb2ec",
   "metadata": {},
   "source": [
    ">Используем уровень значимости альфа, чтобы проверить, существенно ли отличается разница между двумя средними значениями совокупности\n",
    "<h4>Гипотеза:различие средних цен мебели с разными цветами и с одним цветом.</h4> \n",
    "<ul><li>Сформулирую нулевую гипотезу (Н₀) — среднее значение  одинаковое</li>\n",
    "<li>Сформулирую альтернативную гипотезу (Н₁) — среднее значение разное</li></ul>"
   ]
  },
  {
   "cell_type": "code",
   "execution_count": 73,
   "id": "b35c635f",
   "metadata": {},
   "outputs": [
    {
     "name": "stdout",
     "output_type": "stream",
     "text": [
      "p-значение: 8.753557081141471e-07\n",
      "Отвергаем нулевую гипотезу\n"
     ]
    },
    {
     "name": "stderr",
     "output_type": "stream",
     "text": [
      "C:\\Users\\Стас\\AppData\\Local\\Temp\\ipykernel_16308\\100490891.py:6: DeprecationWarning: Please use `ttest_ind` from the `scipy.stats` namespace, the `scipy.stats.stats` namespace is deprecated.\n",
      "  results = stats.ttest_ind(other_colors_y['price'], other_colors_n['price'],equal_var=False)#Hормальность не соблюдается\n"
     ]
    }
   ],
   "source": [
    "#Совокупности на основании товаров с разными цветами и одним цветом\n",
    "other_colors_y = ikea[ikea['other_colors'] == 'Yes']\n",
    "other_colors_n = ikea[ikea['other_colors'] == 'No']\n",
    "\n",
    "#Для проверки возьмем цены на товары с разными цветами и одним цветом\n",
    "results = stats.ttest_ind(other_colors_y['price'], other_colors_n['price'],equal_var=False)#Hормальность не соблюдается\n",
    "\n",
    "alpha = 0.01\n",
    "\n",
    "print('p-значение:', results.pvalue)\n",
    "\n",
    "if (results.pvalue < alpha):\n",
    "    print(\"Отвергаем нулевую гипотезу\")\n",
    "else:\n",
    "    print(\"Не отвергаем нулевую гипотезу\")"
   ]
  },
  {
   "cell_type": "markdown",
   "id": "ad032df5",
   "metadata": {},
   "source": [
    ">Тест показывает, что гипотеза Н₀ не подтверждена, следовательно, нулевая гипотеза отвергается. Поэтому принимается альтернативная гипотеза Н₁, cреднее значение разное."
   ]
  },
  {
   "cell_type": "markdown",
   "id": "0f0a2e61",
   "metadata": {},
   "source": [
    "<h2>Проверка гипотезы на нормальность</h2>"
   ]
  },
  {
   "cell_type": "markdown",
   "id": "c39efccf",
   "metadata": {},
   "source": [
    "<h4>Гипотеза:проверка на нормальность.</h4> \n",
    "<ul><li>Сформулирую нулевую гипотезу (Н₀) — данные распределены нормально</li>\n",
    "<li>Сформулирую альтернативную гипотезу (Н₁) — данные не имеют нормального распределения</li></ul>"
   ]
  },
  {
   "cell_type": "code",
   "execution_count": 74,
   "id": "93b74cf4",
   "metadata": {},
   "outputs": [
    {
     "name": "stdout",
     "output_type": "stream",
     "text": [
      "Statistics=0.308, p-value=0.000\n",
      "Отклонить гипотезу о нормальности\n"
     ]
    }
   ],
   "source": [
    "# Сделаем генеральное распределение для проведение теста\n",
    "alpha2 = 0.01\n",
    "# Тест Шапиро-Уилк\n",
    "stat, p = scipy.stats.shapiro(ikea['discount'])\n",
    "print('Statistics=%.3f, p-value=%.3f' % (stat, p))\n",
    "\n",
    "if p < alpha2:\n",
    "    print('Отклонить гипотезу о нормальности')\n",
    "else:\n",
    "    print('Принять гипотезу о нормальности')\n"
   ]
  },
  {
   "cell_type": "markdown",
   "id": "52113f9a",
   "metadata": {},
   "source": [
    ">В результате получили низкое p-value, следовательно, отклоняем нулевую гипотезу."
   ]
  },
  {
   "cell_type": "markdown",
   "id": "00cb8d40",
   "metadata": {},
   "source": [
    "<h1>Mодель предсказания цены на мебель</h1>"
   ]
  },
  {
   "cell_type": "code",
   "execution_count": 75,
   "id": "ba652213",
   "metadata": {
    "scrolled": true
   },
   "outputs": [
    {
     "data": {
      "text/html": [
       "<div>\n",
       "<style scoped>\n",
       "    .dataframe tbody tr th:only-of-type {\n",
       "        vertical-align: middle;\n",
       "    }\n",
       "\n",
       "    .dataframe tbody tr th {\n",
       "        vertical-align: top;\n",
       "    }\n",
       "\n",
       "    .dataframe thead th {\n",
       "        text-align: right;\n",
       "    }\n",
       "</style>\n",
       "<table border=\"1\" class=\"dataframe\">\n",
       "  <thead>\n",
       "    <tr style=\"text-align: right;\">\n",
       "      <th></th>\n",
       "      <th>price</th>\n",
       "      <th>depth</th>\n",
       "      <th>height</th>\n",
       "      <th>width</th>\n",
       "      <th>category_le</th>\n",
       "      <th>other_colors_le</th>\n",
       "      <th>s1</th>\n",
       "      <th>s2</th>\n",
       "      <th>s3</th>\n",
       "    </tr>\n",
       "  </thead>\n",
       "  <tbody>\n",
       "    <tr>\n",
       "      <th>0</th>\n",
       "      <td>265.0</td>\n",
       "      <td>46.93</td>\n",
       "      <td>99.00</td>\n",
       "      <td>51.00</td>\n",
       "      <td>0</td>\n",
       "      <td>0</td>\n",
       "      <td>4645.67</td>\n",
       "      <td>5049.00</td>\n",
       "      <td>2393.22</td>\n",
       "    </tr>\n",
       "    <tr>\n",
       "      <th>1</th>\n",
       "      <td>995.0</td>\n",
       "      <td>46.93</td>\n",
       "      <td>105.00</td>\n",
       "      <td>80.00</td>\n",
       "      <td>0</td>\n",
       "      <td>0</td>\n",
       "      <td>4927.22</td>\n",
       "      <td>8400.00</td>\n",
       "      <td>3754.07</td>\n",
       "    </tr>\n",
       "    <tr>\n",
       "      <th>2</th>\n",
       "      <td>2095.0</td>\n",
       "      <td>46.93</td>\n",
       "      <td>97.57</td>\n",
       "      <td>52.95</td>\n",
       "      <td>0</td>\n",
       "      <td>0</td>\n",
       "      <td>4578.63</td>\n",
       "      <td>5166.01</td>\n",
       "      <td>2484.54</td>\n",
       "    </tr>\n",
       "    <tr>\n",
       "      <th>3</th>\n",
       "      <td>69.0</td>\n",
       "      <td>50.00</td>\n",
       "      <td>100.00</td>\n",
       "      <td>60.00</td>\n",
       "      <td>0</td>\n",
       "      <td>1</td>\n",
       "      <td>5000.00</td>\n",
       "      <td>6000.00</td>\n",
       "      <td>3000.00</td>\n",
       "    </tr>\n",
       "    <tr>\n",
       "      <th>4</th>\n",
       "      <td>225.0</td>\n",
       "      <td>60.00</td>\n",
       "      <td>43.00</td>\n",
       "      <td>74.00</td>\n",
       "      <td>0</td>\n",
       "      <td>0</td>\n",
       "      <td>2580.00</td>\n",
       "      <td>3182.00</td>\n",
       "      <td>4440.00</td>\n",
       "    </tr>\n",
       "    <tr>\n",
       "      <th>...</th>\n",
       "      <td>...</td>\n",
       "      <td>...</td>\n",
       "      <td>...</td>\n",
       "      <td>...</td>\n",
       "      <td>...</td>\n",
       "      <td>...</td>\n",
       "      <td>...</td>\n",
       "      <td>...</td>\n",
       "      <td>...</td>\n",
       "    </tr>\n",
       "    <tr>\n",
       "      <th>3689</th>\n",
       "      <td>750.0</td>\n",
       "      <td>50.00</td>\n",
       "      <td>216.54</td>\n",
       "      <td>91.00</td>\n",
       "      <td>16</td>\n",
       "      <td>0</td>\n",
       "      <td>10826.89</td>\n",
       "      <td>19704.93</td>\n",
       "      <td>4550.00</td>\n",
       "    </tr>\n",
       "    <tr>\n",
       "      <th>3690</th>\n",
       "      <td>1572.0</td>\n",
       "      <td>50.00</td>\n",
       "      <td>216.54</td>\n",
       "      <td>135.00</td>\n",
       "      <td>16</td>\n",
       "      <td>0</td>\n",
       "      <td>10826.89</td>\n",
       "      <td>29232.59</td>\n",
       "      <td>6750.00</td>\n",
       "    </tr>\n",
       "    <tr>\n",
       "      <th>3691</th>\n",
       "      <td>924.0</td>\n",
       "      <td>50.00</td>\n",
       "      <td>216.54</td>\n",
       "      <td>175.00</td>\n",
       "      <td>16</td>\n",
       "      <td>0</td>\n",
       "      <td>10826.89</td>\n",
       "      <td>37894.10</td>\n",
       "      <td>8750.00</td>\n",
       "    </tr>\n",
       "    <tr>\n",
       "      <th>3692</th>\n",
       "      <td>2745.0</td>\n",
       "      <td>50.00</td>\n",
       "      <td>216.54</td>\n",
       "      <td>178.00</td>\n",
       "      <td>16</td>\n",
       "      <td>0</td>\n",
       "      <td>10826.89</td>\n",
       "      <td>38543.72</td>\n",
       "      <td>8900.00</td>\n",
       "    </tr>\n",
       "    <tr>\n",
       "      <th>3693</th>\n",
       "      <td>1231.0</td>\n",
       "      <td>50.00</td>\n",
       "      <td>216.54</td>\n",
       "      <td>175.00</td>\n",
       "      <td>16</td>\n",
       "      <td>0</td>\n",
       "      <td>10826.89</td>\n",
       "      <td>37894.10</td>\n",
       "      <td>8750.00</td>\n",
       "    </tr>\n",
       "  </tbody>\n",
       "</table>\n",
       "<p>3694 rows × 9 columns</p>\n",
       "</div>"
      ],
      "text/plain": [
       "       price  depth  height   width  category_le  other_colors_le        s1  \\\n",
       "0      265.0  46.93   99.00   51.00            0                0   4645.67   \n",
       "1      995.0  46.93  105.00   80.00            0                0   4927.22   \n",
       "2     2095.0  46.93   97.57   52.95            0                0   4578.63   \n",
       "3       69.0  50.00  100.00   60.00            0                1   5000.00   \n",
       "4      225.0  60.00   43.00   74.00            0                0   2580.00   \n",
       "...      ...    ...     ...     ...          ...              ...       ...   \n",
       "3689   750.0  50.00  216.54   91.00           16                0  10826.89   \n",
       "3690  1572.0  50.00  216.54  135.00           16                0  10826.89   \n",
       "3691   924.0  50.00  216.54  175.00           16                0  10826.89   \n",
       "3692  2745.0  50.00  216.54  178.00           16                0  10826.89   \n",
       "3693  1231.0  50.00  216.54  175.00           16                0  10826.89   \n",
       "\n",
       "            s2       s3  \n",
       "0      5049.00  2393.22  \n",
       "1      8400.00  3754.07  \n",
       "2      5166.01  2484.54  \n",
       "3      6000.00  3000.00  \n",
       "4      3182.00  4440.00  \n",
       "...        ...      ...  \n",
       "3689  19704.93  4550.00  \n",
       "3690  29232.59  6750.00  \n",
       "3691  37894.10  8750.00  \n",
       "3692  38543.72  8900.00  \n",
       "3693  37894.10  8750.00  \n",
       "\n",
       "[3694 rows x 9 columns]"
      ]
     },
     "execution_count": 75,
     "metadata": {},
     "output_type": "execute_result"
    }
   ],
   "source": [
    "#Удаляем колонки, которые не будут принимать участие в предсказании \n",
    "column_d = ['item_id','Unnamed: 0', 'name','link', 'short_description','designer',\n",
    "            'sellable_online','v_furniture','category','other_colors','old_price','discount']\n",
    "ikea_ml = ikea.drop(column_d, axis=1)\n",
    "ikea_ml = ikea_ml.round(2)\n",
    "ikea_ml\n"
   ]
  },
  {
   "cell_type": "code",
   "execution_count": 76,
   "id": "3f20025f",
   "metadata": {},
   "outputs": [
    {
     "data": {
      "text/plain": [
       "price              0\n",
       "depth              0\n",
       "height             0\n",
       "width              0\n",
       "category_le        0\n",
       "other_colors_le    0\n",
       "s1                 0\n",
       "s2                 0\n",
       "s3                 0\n",
       "dtype: int64"
      ]
     },
     "execution_count": 76,
     "metadata": {},
     "output_type": "execute_result"
    }
   ],
   "source": [
    "#Проверим на пустые значения \n",
    "ikea_ml.isna().sum()"
   ]
  },
  {
   "cell_type": "code",
   "execution_count": 77,
   "id": "0e5e4969",
   "metadata": {},
   "outputs": [],
   "source": [
    "#Импортируем нужные библиотеки \n",
    "from sklearn.model_selection import train_test_split"
   ]
  },
  {
   "cell_type": "code",
   "execution_count": 78,
   "id": "bdb16db1",
   "metadata": {},
   "outputs": [
    {
     "name": "stdout",
     "output_type": "stream",
     "text": [
      "(3694, 8)\n",
      "(3694,)\n"
     ]
    }
   ],
   "source": [
    "X = ikea_ml.drop(['price'], axis=1)\n",
    "y = ikea_ml['price']\n",
    "y=y.astype('int')\n",
    "print(X.shape)\n",
    "print(y.shape)"
   ]
  },
  {
   "cell_type": "code",
   "execution_count": 79,
   "id": "eb885712",
   "metadata": {},
   "outputs": [
    {
     "name": "stdout",
     "output_type": "stream",
     "text": [
      "(2585, 8)\n",
      "(2585,)\n",
      "(1109, 8)\n",
      "(1109,)\n"
     ]
    }
   ],
   "source": [
    "X_train, X_test, y_train, y_test = train_test_split(X, y, test_size = 0.3, random_state = 5)\n",
    "print(X_train.shape)\n",
    "print(y_train.shape)\n",
    "print(X_test.shape)\n",
    "print(y_test.shape)"
   ]
  },
  {
   "cell_type": "code",
   "execution_count": 80,
   "id": "4a2720d6",
   "metadata": {},
   "outputs": [],
   "source": [
    "#Импортируем нужные библиотеки\n",
    "from sklearn import metrics\n",
    "from sklearn.neighbors import KNeighborsClassifier\n",
    "from sklearn.linear_model import LogisticRegression"
   ]
  },
  {
   "cell_type": "code",
   "execution_count": 81,
   "id": "2bd6b30c",
   "metadata": {},
   "outputs": [
    {
     "data": {
      "image/png": "[encoded data removed]",
      "text/plain": [
       "<Figure size 432x288 with 1 Axes>"
      ]
     },
     "metadata": {},
     "output_type": "display_data"
    }
   ],
   "source": [
    "#Показатели точности для значений k из k ближайших соседей\n",
    "k_range = list(range(1,10))\n",
    "scores = []\n",
    "\n",
    "for k in k_range:\n",
    "    knn = KNeighborsClassifier(n_neighbors = k)\n",
    "    knn.fit(X, y)\n",
    "    \n",
    "    y_pred = knn.predict(X)\n",
    "    scores.append(metrics.accuracy_score(y, y_pred)) \n",
    "    \n",
    "plt.plot(k_range, scores)\n",
    "plt.xlabel('Value of k for KNN')\n",
    "plt.ylabel('Accuracy Score')\n",
    "plt.title('Accuracy Scores for Values of k of k-Nearest-Neighbors')\n",
    "plt.show()"
   ]
  },
  {
   "cell_type": "code",
   "execution_count": 82,
   "id": "3143e0bf",
   "metadata": {},
   "outputs": [
    {
     "name": "stderr",
     "output_type": "stream",
     "text": [
      "C:\\python\\lib\\site-packages\\sklearn\\base.py:450: UserWarning: X does not have valid feature names, but KNeighborsClassifier was fitted with feature names\n",
      "  warnings.warn(\n"
     ]
    },
    {
     "data": {
      "text/plain": [
       "array([940])"
      ]
     },
     "execution_count": 82,
     "metadata": {},
     "output_type": "execute_result"
    }
   ],
   "source": [
    "knn = KNeighborsClassifier(n_neighbors = 1)\n",
    "\n",
    "knn.fit(X_train, y_train)\n",
    "\n",
    "knn.predict([[50.00,216.54,179.00,7,0,1826.89,38543.72,900.00]])"
   ]
  },
  {
   "cell_type": "markdown",
   "id": "20b14b11",
   "metadata": {},
   "source": [
    "<li>При выборе параметров для обучения модели были исключены колонки:''item_id','Unnamed: 0', 'name','link', 'short_description','designer', 'sellable_online','v_furniture','category','other_colors','old_price','discount'.</li>\n",
    "<li>Для параметров 'width', 'height', 'depth', которые имели пустые значения, применено заполнение средним значением по группе мебели</li>\n",
    "<li>Дополнительно включены значения площадей каждой проекции изделия </li>\n"
   ]
  },
  {
   "cell_type": "markdown",
   "id": "13086289",
   "metadata": {},
   "source": [
    ">Для повышения производительности модели необходимо улучшить обработку отсутствующих значений и значений исключений.Поработать над преобразованием необработанных данных в признаки."
   ]
  }
 ],
 "metadata": {
  "kernelspec": {
   "display_name": "Python 3 (ipykernel)",
   "language": "python",
   "name": "python3"
  },
  "language_info": {
   "codemirror_mode": {
    "name": "ipython",
    "version": 3
   },
   "file_extension": ".py",
   "mimetype": "text/x-python",
   "name": "python",
   "nbconvert_exporter": "python",
   "pygments_lexer": "ipython3",
   "version": "3.10.5"
  }
 },
 "nbformat": 4,
 "nbformat_minor": 5
}
